{
 "cells": [
  {
   "cell_type": "code",
   "execution_count": 1,
   "metadata": {},
   "outputs": [],
   "source": [
    "import os\n",
    "import csv\n",
    "import re\n",
    "import pandas as pd\n",
    "import numpy as np\n",
    "\n",
    "#将数据分割为训练集和测试集\n",
    "from sklearn.model_selection import train_test_split\n",
    "\n",
    "#用于标准化数据\n",
    "from sklearn.preprocessing import StandardScaler\n",
    "#一种线性分类技术\n",
    "from sklearn.linear_model import LogisticRegression\n",
    "#一种线性分类技术\n",
    "from sklearn.linear_model import SGDClassifier\n",
    "#用于分析数据\n",
    "from sklearn.metrics import classification_report"
   ]
  },
  {
   "cell_type": "code",
   "execution_count": 2,
   "metadata": {
    "scrolled": true
   },
   "outputs": [
    {
     "name": "stdout",
     "output_type": "stream",
     "text": [
      "[0. 1. 2.]\n",
      "[[0. 1. 0.]\n",
      " [0. 1. 0.]\n",
      " [0. 0. 1.]\n",
      " [1. 0. 0.]\n",
      " [0. 0. 1.]\n",
      " [1. 0. 0.]\n",
      " [1. 0. 0.]\n",
      " [0. 1. 0.]\n",
      " [0. 0. 1.]\n",
      " [0. 0. 1.]\n",
      " [0. 0. 1.]\n",
      " [0. 0. 1.]\n",
      " [0. 1. 0.]\n",
      " [0. 0. 1.]\n",
      " [0. 1. 0.]\n",
      " [0. 1. 0.]\n",
      " [0. 0. 1.]\n",
      " [0. 0. 1.]\n",
      " [0. 0. 1.]\n",
      " [0. 0. 1.]\n",
      " [0. 1. 0.]\n",
      " [0. 0. 1.]\n",
      " [0. 1. 0.]\n",
      " [1. 0. 0.]\n",
      " [0. 0. 1.]\n",
      " [0. 1. 0.]\n",
      " [0. 1. 0.]\n",
      " [0. 1. 0.]\n",
      " [0. 1. 0.]\n",
      " [0. 0. 1.]\n",
      " [1. 0. 0.]\n",
      " [1. 0. 0.]\n",
      " [0. 0. 1.]\n",
      " [0. 1. 0.]\n",
      " [1. 0. 0.]\n",
      " [1. 0. 0.]\n",
      " [0. 1. 0.]\n",
      " [1. 0. 0.]\n",
      " [0. 0. 1.]\n",
      " [0. 1. 0.]\n",
      " [1. 0. 0.]\n",
      " [0. 1. 0.]\n",
      " [0. 0. 1.]\n",
      " [0. 1. 0.]\n",
      " [1. 0. 0.]\n",
      " [0. 0. 1.]\n",
      " [0. 0. 1.]\n",
      " [0. 0. 1.]\n",
      " [0. 0. 1.]\n",
      " [1. 0. 0.]\n",
      " [1. 0. 0.]\n",
      " [0. 0. 1.]\n",
      " [0. 0. 1.]\n",
      " [1. 0. 0.]\n",
      " [0. 0. 1.]\n",
      " [1. 0. 0.]\n",
      " [0. 0. 1.]\n",
      " [0. 0. 1.]\n",
      " [1. 0. 0.]\n",
      " [1. 0. 0.]\n",
      " [0. 0. 1.]\n",
      " [1. 0. 0.]\n",
      " [1. 0. 0.]\n",
      " [1. 0. 0.]\n",
      " [0. 1. 0.]\n",
      " [0. 0. 1.]\n",
      " [0. 0. 1.]\n",
      " [1. 0. 0.]\n",
      " [1. 0. 0.]\n",
      " [1. 0. 0.]\n",
      " [0. 1. 0.]\n",
      " [0. 1. 0.]\n",
      " [1. 0. 0.]\n",
      " [1. 0. 0.]\n",
      " [0. 1. 0.]\n",
      " [1. 0. 0.]\n",
      " [0. 0. 1.]\n",
      " [0. 1. 0.]\n",
      " [0. 0. 1.]\n",
      " [0. 1. 0.]\n",
      " [1. 0. 0.]\n",
      " [0. 0. 1.]\n",
      " [1. 0. 0.]\n",
      " [0. 0. 1.]\n",
      " [1. 0. 0.]\n",
      " [1. 0. 0.]\n",
      " [0. 0. 1.]\n",
      " [1. 0. 0.]\n",
      " [0. 0. 1.]\n",
      " [0. 1. 0.]\n",
      " [0. 1. 0.]\n",
      " [0. 1. 0.]\n",
      " [0. 0. 1.]\n",
      " [0. 0. 1.]\n",
      " [0. 1. 0.]\n",
      " [0. 1. 0.]\n",
      " [1. 0. 0.]]\n"
     ]
    }
   ],
   "source": [
    "# 载入数据\n",
    "from numpy import genfromtxt\n",
    "train_dataset = genfromtxt('iris_data/train.csv',delimiter=',')\n",
    "val_dataset = genfromtxt('iris_data/val.csv',delimiter=',')\n",
    "test_data = genfromtxt('iris_data/test_data.csv',delimiter=',')\n",
    "\n",
    "train_data = train_dataset[1:,:4]\n",
    "train_label = train_dataset[1:,4]\n",
    "val_data = val_dataset[1:,:4]\n",
    "val_label = val_dataset[1:,4]\n",
    "test_data = test_data[1:,:]\n",
    "\n",
    "# 扩展标签\n",
    "classname = np.unique(train_label)\n",
    "print(classname)\n",
    "multi_label = np.zeros([len(train_label),len(classname)])\n",
    "for i in range(len(classname)):\n",
    "    multi_label[np.where(train_label==classname[i]),i] = 1\n",
    "print(multi_label)\n",
    "\n",
    "multi_val_label = np.zeros([len(val_label),len(classname)])\n",
    "for i in range(len(classname)):\n",
    "    multi_val_label[np.where(val_label==classname[i]),i] = 1"
   ]
  },
  {
   "cell_type": "code",
   "execution_count": 3,
   "metadata": {},
   "outputs": [
    {
     "name": "stdout",
     "output_type": "stream",
     "text": [
      "[[4.990625   3.390625   1.45625    0.24375   ]\n",
      " [5.91071429 2.76071429 4.17142857 1.31428571]\n",
      " [6.66756757 2.97567568 5.56486486 2.03513514]]\n"
     ]
    }
   ],
   "source": [
    "# 类平均向量mc\n",
    "mc = np.zeros([3,len(train_data[0])])\n",
    "mc_num = np.zeros([3,1])\n",
    "for i in range(len(train_label)):\n",
    "    if train_label[i] == 0:\n",
    "        mc[0] += train_data[i]\n",
    "        mc_num[0] += 1\n",
    "        continue\n",
    "    if train_label[i] == 1:\n",
    "        mc[1] += train_data[i]\n",
    "        mc_num[1] += 1\n",
    "        continue\n",
    "    if train_label[i] == 2:\n",
    "        mc[2] += train_data[i]\n",
    "        mc_num[2] += 1\n",
    "        continue\n",
    "for i in range(len(mc_num)):\n",
    "    mc[i] /= mc_num[i]\n",
    "print(mc)"
   ]
  },
  {
   "cell_type": "code",
   "execution_count": 4,
   "metadata": {},
   "outputs": [
    {
     "name": "stdout",
     "output_type": "stream",
     "text": [
      "[5.89587629 3.05051546 3.80721649 1.23608247]\n"
     ]
    }
   ],
   "source": [
    "# 总平均向量m_red\n",
    "m = np.zeros(len(train_data[0]))\n",
    "for i in range(len(train_data[0])):\n",
    "    m[i] = train_data[:, i].mean()\n",
    "print(m)"
   ]
  },
  {
   "cell_type": "code",
   "execution_count": 5,
   "metadata": {},
   "outputs": [
    {
     "name": "stdout",
     "output_type": "stream",
     "text": [
      "(4, 4)\n",
      "(4, 4)\n"
     ]
    }
   ],
   "source": [
    "# 构建Sw,Sb，ST\n",
    "Sw = np.zeros([4,4])\n",
    "for i in range(3):\n",
    "    for j in range(len(train_label)):\n",
    "        if train_label[j] == i:\n",
    "            temp = train_data[j] - mc[i]\n",
    "            Sw += np.outer(temp ,temp.T)\n",
    "# print(Sw)\n",
    "print(Sw.shape)\n",
    "Sb = np.zeros([4,4])\n",
    "for i in range(3):\n",
    "    temp = mc[i] - m[i]\n",
    "    Sb += mc_num[i] * np.outer(temp, temp.T)\n",
    "# print(Sb)\n",
    "print(Sb.shape)\n",
    "ST = Sw + Sb"
   ]
  },
  {
   "cell_type": "code",
   "execution_count": 6,
   "metadata": {},
   "outputs": [
    {
     "name": "stdout",
     "output_type": "stream",
     "text": [
      "[[ 0.00714901  0.50354232 -0.84367805 -0.18601445]\n",
      " [-0.0972321  -0.02277262 -0.22795876  0.96853608]]\n"
     ]
    }
   ],
   "source": [
    "# 求解投影方向\n",
    "w = np.linalg.eig(np.linalg.pinv(Sw)*Sb)[1][0:2]\n",
    "print(w)"
   ]
  },
  {
   "cell_type": "code",
   "execution_count": 7,
   "metadata": {},
   "outputs": [
    {
     "name": "stdout",
     "output_type": "stream",
     "text": [
      "[[-2.26966338e+00 -1.46609884e-01]\n",
      " [-2.24725526e+00 -3.72746699e-01]\n",
      " [-3.47161940e+00  5.06564931e-02]\n",
      " [ 5.10951404e-01 -6.32502401e-01]\n",
      " [-3.12028194e+00  3.23546739e-01]\n",
      " [ 3.36649607e-01 -3.49477011e-01]\n",
      " [ 5.98991260e-01 -7.57542929e-01]\n",
      " [-2.09605794e+00 -3.61025288e-01]\n",
      " [-3.41795977e+00 -2.10734701e-01]\n",
      " [-3.56441300e+00  3.95370597e-01]\n",
      " [-3.34672477e+00 -3.20482003e-01]\n",
      " [-3.92140454e+00 -2.87182438e-01]\n",
      " [-2.19607004e+00 -4.25080750e-01]\n",
      " [-4.00859502e+00  2.00795683e-02]\n",
      " [-2.55618155e+00 -2.09460278e-01]\n",
      " [-2.16277137e+00 -3.90284403e-01]\n",
      " [-3.06424544e+00 -4.76812427e-02]\n",
      " [-3.12682248e+00 -3.86111079e-01]\n",
      " [-2.81888985e+00  8.73281107e-02]\n",
      " [-3.26792315e+00  3.09310132e-02]\n",
      " [-2.56432858e+00 -4.68952699e-01]\n",
      " [-3.20205925e+00  5.13601410e-02]\n",
      " [-2.33923641e+00 -1.36976160e-01]\n",
      " [ 2.08208659e-01 -7.08335975e-01]\n",
      " [-3.25515700e+00  5.21966621e-02]\n",
      " [-2.38566789e+00 -3.04315685e-01]\n",
      " [-1.77875259e+00 -1.72094955e-01]\n",
      " [-2.31835564e+00 -2.44446200e-01]\n",
      " [-2.58710335e+00 -3.54093413e-01]\n",
      " [-3.73408603e+00 -3.97331070e-01]\n",
      " [ 5.98276359e-01 -7.47819719e-01]\n",
      " [ 5.94720392e-01 -6.40316895e-01]\n",
      " [-3.41960320e+00 -5.17343470e-02]\n",
      " [-2.21528884e+00 -4.17724288e-01]\n",
      " [ 2.79192955e-01 -7.96302894e-01]\n",
      " [ 9.16412694e-01 -6.08946175e-01]\n",
      " [-2.80273477e+00 -4.05690371e-01]\n",
      " [ 2.91146662e-01 -6.66093680e-01]\n",
      " [-3.08477796e+00 -6.12119409e-02]\n",
      " [-1.44033430e+00 -1.71301821e-01]\n",
      " [ 5.07975717e-01 -5.53275983e-01]\n",
      " [-2.92345594e+00 -2.25949045e-01]\n",
      " [-3.74724702e+00  2.48739261e-01]\n",
      " [-2.28424452e+00 -3.18593418e-01]\n",
      " [ 3.45191482e-01 -7.57320570e-01]\n",
      " [-3.80694592e+00 -6.96966381e-02]\n",
      " [-3.57613454e+00  1.84494224e-01]\n",
      " [-3.74546897e+00  1.08292103e-01]\n",
      " [-3.65955528e+00  7.13079799e-02]\n",
      " [ 5.62832983e-01 -7.53446437e-01]\n",
      " [ 3.59271354e-01 -7.15167761e-01]\n",
      " [-3.01698298e+00  6.96014929e-02]\n",
      " [-3.49000722e+00  7.95616595e-03]\n",
      " [ 3.77320721e-02 -4.95707017e-01]\n",
      " [-3.22732697e+00  3.16389794e-01]\n",
      " [ 3.27304938e-01 -6.70190172e-01]\n",
      " [-3.29081400e+00  1.86123879e-01]\n",
      " [-3.33618247e+00  6.14518971e-02]\n",
      " [ 5.08806701e-01 -6.03332772e-01]\n",
      " [ 6.30145229e-01 -6.93576953e-01]\n",
      " [-3.62885599e+00 -5.40892011e-01]\n",
      " [ 5.61904453e-01 -6.04169293e-01]\n",
      " [ 4.08098238e-01 -5.98778248e-01]\n",
      " [ 4.93761223e-01 -6.13981988e-01]\n",
      " [-2.41906410e+00 -2.39891676e-01]\n",
      " [-3.74558505e+00  1.48625682e-01]\n",
      " [-4.39394605e+00 -2.77883815e-01]\n",
      " [ 5.80505898e-01 -7.01022901e-01]\n",
      " [ 2.93291365e-01 -6.95263309e-01]\n",
      " [ 5.30866568e-01 -7.08468848e-01]\n",
      " [-2.58770217e+00 -3.84703783e-01]\n",
      " [-2.41479324e+00 -3.57117710e-01]\n",
      " [ 5.97463912e-01 -6.38876154e-01]\n",
      " [ 1.70889685e-01 -4.74295180e-01]\n",
      " [-2.36360802e+00 -4.09451761e-01]\n",
      " [ 4.10725674e-01 -5.57003928e-01]\n",
      " [-4.88495438e+00 -1.53178389e-01]\n",
      " [-1.72662031e+00 -3.14819375e-01]\n",
      " [-3.80163044e+00 -3.76533396e-01]\n",
      " [-2.36372410e+00 -3.69118182e-01]\n",
      " [ 8.17579830e-01 -8.44059165e-01]\n",
      " [-2.83095964e+00 -2.54752387e-03]\n",
      " [ 1.00601697e+00 -7.34879926e-01]\n",
      " [-4.55970597e+00 -4.02701985e-01]\n",
      " [ 6.28599343e-01 -6.33796954e-01]\n",
      " [ 2.57847990e-01 -7.00890027e-01]\n",
      " [-4.03704240e+00 -3.33610710e-01]\n",
      " [ 4.79082534e-01 -6.86745167e-01]\n",
      " [-3.41394912e+00  3.57928441e-01]\n",
      " [-2.25023095e+00 -2.93520281e-01]\n",
      " [-2.11253322e+00 -3.52228085e-01]\n",
      " [-1.78892825e+00 -4.42751327e-01]\n",
      " [-3.24223783e+00  3.24293775e-01]\n",
      " [-3.25643378e+00  3.22474545e-01]\n",
      " [-3.10914957e+00 -3.33687542e-01]\n",
      " [-2.97608950e+00 -2.13055350e-01]\n",
      " [ 1.59284229e-01 -7.25505133e-01]]\n"
     ]
    },
    {
     "data": {
      "image/png": "[encoded data removed]",
      "text/plain": [
       "<Figure size 432x288 with 1 Axes>"
      ]
     },
     "metadata": {
      "needs_background": "light"
     },
     "output_type": "display_data"
    }
   ],
   "source": [
    "# LDA降维与可视化\n",
    "import matplotlib.pyplot as plt\n",
    "train_data_lda = np.dot(train_data, w.T)\n",
    "val_data_lda = np.dot(val_data, w.T)\n",
    "\n",
    "\n",
    "if len(train_data_lda[0]) == 2:\n",
    "    color = ['gold',  'red', 'darkred']\n",
    "    for i, c in zip(classname, color):\n",
    "        plt.scatter(train_data_lda[np.where(train_label==i), 0], train_data_lda[np.where(train_label==i), 1], c=c)\n",
    "    plt.show()"
   ]
  },
  {
   "cell_type": "code",
   "execution_count": null,
   "metadata": {},
   "outputs": [],
   "source": [
    "ss = StandardScaler()"
   ]
  },
  {
   "cell_type": "code",
   "execution_count": null,
   "metadata": {},
   "outputs": [],
   "source": [
    "lr = LogisticRegression(multi_class='ovr')"
   ]
  },
  {
   "cell_type": "code",
   "execution_count": null,
   "metadata": {},
   "outputs": [],
   "source": [
    "# 降维后"
   ]
  },
  {
   "cell_type": "code",
   "execution_count": null,
   "metadata": {},
   "outputs": [],
   "source": [
    "# 5重交叉验证\n",
    "from sklearn.model_selection import KFold\n",
    "\n",
    "kf = KFold(n_splits=5)"
   ]
  },
  {
   "cell_type": "code",
   "execution_count": 14,
   "metadata": {
    "scrolled": true
   },
   "outputs": [
    {
     "name": "stdout",
     "output_type": "stream",
     "text": [
      "训练耗时为  2.919658 s\n",
      "\u001b[1;31;47m   Ford1:acc = 0.950000 \u001b[0m \n",
      "\n",
      "训练耗时为  2.367529 s\n",
      "\u001b[1;31;47m   Ford2:acc = 1.000000 \u001b[0m \n",
      "\n",
      "训练耗时为  2.383545 s\n",
      "\u001b[1;31;47m   Ford3:acc = 0.947368 \u001b[0m \n",
      "\n",
      "训练耗时为  2.368526 s\n",
      "\u001b[1;31;47m   Ford4:acc = 1.000000 \u001b[0m \n",
      "\n",
      "训练耗时为  2.394527 s\n",
      "\u001b[1;31;47m   Ford5:acc = 0.894737 \u001b[0m \n",
      "\n"
     ]
    }
   ],
   "source": [
    "# 对降维后的数据进行logistic回归分类\n",
    "# 使用交叉验证，记录每次学习得到的w和b\n",
    "\n",
    "w_stack = []\n",
    "acc_stack = []\n",
    "ford = 1\n",
    "for X_train_i,X_test_i in kf.split(train_data_lda):\n",
    "    time_start = time.time()\n",
    "    w = np.ones([6, len(train_data_lda[0])])\n",
    "    b = np.ones([6, 1])\n",
    "    \n",
    "    X_train = ss.fit_transform(train_data_lda[X_train_i])\n",
    "    X_test = ss.fit_transform(train_data_lda[X_test_i])\n",
    "    y_train = train_label[X_train_i]\n",
    "    y_test = train_label[X_test_i]\n",
    "\n",
    "    lr.fit(X_train, y_train)\n",
    "    lr_y_predict = lr.predict(X_test)\n",
    "    acc = lr.score(X_test, y_test)\n",
    "    time_end = time.time()\n",
    "    print('%s  %f s' % (\"训练耗时为\\n\", (time_end - time_start)))\n",
    "    print(\"\\033[1;31;47m   Ford%d:acc = %f \\033[0m\" %(ford, acc))\n",
    "    #print(classification_report(y_test, lr_y_predict, target_names=['3', '4', '5', '6', '7', '8']))\n",
    "    w_stack.append(lr.coef_)\n",
    "    acc_stack.append(acc)\n",
    "    ford += 1"
   ]
  },
  {
   "cell_type": "code",
   "execution_count": 15,
   "metadata": {},
   "outputs": [
    {
     "name": "stdout",
     "output_type": "stream",
     "text": [
      "[0.95, 1.0, 0.9473684210526315, 1.0, 0.8947368421052632]\n"
     ]
    }
   ],
   "source": [
    "print(acc_stack)"
   ]
  },
  {
   "cell_type": "code",
   "execution_count": 16,
   "metadata": {},
   "outputs": [],
   "source": [
    "def sigmoid(a):\n",
    "    return 1 / (1 + np.exp(-a))"
   ]
  },
  {
   "cell_type": "code",
   "execution_count": 17,
   "metadata": {},
   "outputs": [],
   "source": [
    "# 观察分类器在测试集上的表现"
   ]
  },
  {
   "cell_type": "code",
   "execution_count": 27,
   "metadata": {},
   "outputs": [
    {
     "name": "stdout",
     "output_type": "stream",
     "text": [
      "降维后总精度 = 0.933333\n"
     ]
    }
   ],
   "source": [
    "# 降维后\n",
    "from numpy import *\n",
    "\n",
    "w = np.array(w_stack).mean(0)\n",
    "predict = np.zeros(len(val_label))\n",
    "\n",
    "lr_y_predict = lr.predict(ss.fit_transform(val_data_lda))\n",
    "acc = lr.score(ss.fit_transform(val_data_lda), val_label)\n",
    "\n",
    "print(\"降维后总精度 = %f\" %acc)"
   ]
  },
  {
   "cell_type": "code",
   "execution_count": 28,
   "metadata": {},
   "outputs": [
    {
     "name": "stdout",
     "output_type": "stream",
     "text": [
      "[5. 6. 4.]\n",
      "[5. 5. 4.]\n",
      "[1.         0.83333333 1.        ]\n"
     ]
    }
   ],
   "source": [
    "# 逐类分类\n",
    "count = np.zeros(3)\n",
    "acc = np.zeros(3)\n",
    "for i in range(len(predict)):\n",
    "    if val_label[i] == 0:\n",
    "        count[0] += 1\n",
    "        if predict[i] == val_label[i]:\n",
    "            acc[0] += 1\n",
    "    if val_label[i] == 1:\n",
    "        count[1] += 1\n",
    "        if predict[i] == val_label[i]:\n",
    "            acc[1] += 1\n",
    "    if val_label[i] == 2:\n",
    "        count[2] += 1\n",
    "        if predict[i] == val_label[i]:\n",
    "            acc[2] += 1\n",
    "\n",
    "print(count)\n",
    "print(acc)\n",
    "print(acc/count)"
   ]
  },
  {
   "cell_type": "code",
   "execution_count": 29,
   "metadata": {},
   "outputs": [
    {
     "name": "stdout",
     "output_type": "stream",
     "text": [
      "6\n",
      "0.8333333333333334\n"
     ]
    }
   ],
   "source": [
    "# 统计某一类的具体精度\n",
    "count = 0\n",
    "acc = 0\n",
    "for i in range(len(predict)):\n",
    "    if val_label[i] == 1:\n",
    "        count += 1\n",
    "        if predict[i] == val_label[i]:\n",
    "            acc += 1\n",
    "print(count)\n",
    "print(acc/count)"
   ]
  },
  {
   "cell_type": "code",
   "execution_count": 30,
   "metadata": {},
   "outputs": [
    {
     "ename": "NameError",
     "evalue": "name 'test_data_lda_norm' is not defined",
     "output_type": "error",
     "traceback": [
      "\u001b[1;31m---------------------------------------------------------------------------\u001b[0m",
      "\u001b[1;31mNameError\u001b[0m                                 Traceback (most recent call last)",
      "\u001b[1;32m~\\AppData\\Local\\Temp\\ipykernel_2688\\2928712592.py\u001b[0m in \u001b[0;36m<module>\u001b[1;34m\u001b[0m\n\u001b[0;32m      1\u001b[0m \u001b[1;31m# 逐分类器分类\u001b[0m\u001b[1;33m\u001b[0m\u001b[1;33m\u001b[0m\u001b[1;33m\u001b[0m\u001b[0m\n\u001b[0;32m      2\u001b[0m \u001b[1;32mfor\u001b[0m \u001b[0mk\u001b[0m \u001b[1;32min\u001b[0m \u001b[0mrange\u001b[0m\u001b[1;33m(\u001b[0m\u001b[1;36m3\u001b[0m\u001b[1;33m)\u001b[0m\u001b[1;33m:\u001b[0m\u001b[1;33m\u001b[0m\u001b[1;33m\u001b[0m\u001b[0m\n\u001b[1;32m----> 3\u001b[1;33m     \u001b[0mpredicts\u001b[0m \u001b[1;33m=\u001b[0m \u001b[0msigmoid\u001b[0m\u001b[1;33m(\u001b[0m\u001b[0mnp\u001b[0m\u001b[1;33m.\u001b[0m\u001b[0mdot\u001b[0m\u001b[1;33m(\u001b[0m\u001b[0mtest_data_lda_norm\u001b[0m\u001b[1;33m,\u001b[0m \u001b[0mw\u001b[0m\u001b[1;33m[\u001b[0m\u001b[0mk\u001b[0m\u001b[1;33m]\u001b[0m\u001b[1;33m)\u001b[0m \u001b[1;33m+\u001b[0m \u001b[0mb\u001b[0m\u001b[1;33m[\u001b[0m\u001b[0mk\u001b[0m\u001b[1;33m]\u001b[0m\u001b[1;33m)\u001b[0m\u001b[1;33m\u001b[0m\u001b[1;33m\u001b[0m\u001b[0m\n\u001b[0m\u001b[0;32m      4\u001b[0m     \u001b[0mtheta\u001b[0m \u001b[1;33m=\u001b[0m \u001b[1;36m0.3\u001b[0m\u001b[1;33m\u001b[0m\u001b[1;33m\u001b[0m\u001b[0m\n\u001b[0;32m      5\u001b[0m     \u001b[0mpredict\u001b[0m \u001b[1;33m=\u001b[0m \u001b[1;33m[\u001b[0m\u001b[1;36m1\u001b[0m \u001b[1;32mif\u001b[0m \u001b[0mi\u001b[0m \u001b[1;33m>\u001b[0m \u001b[0mtheta\u001b[0m \u001b[1;32melse\u001b[0m \u001b[1;36m0\u001b[0m \u001b[1;32mfor\u001b[0m \u001b[0mi\u001b[0m \u001b[1;32min\u001b[0m \u001b[0mpredicts\u001b[0m\u001b[1;33m]\u001b[0m\u001b[1;33m\u001b[0m\u001b[1;33m\u001b[0m\u001b[0m\n",
      "\u001b[1;31mNameError\u001b[0m: name 'test_data_lda_norm' is not defined"
     ]
    }
   ],
   "source": [
    "# 逐分类器分类\n",
    "for k in range(3):\n",
    "    predicts = sigmoid(np.dot(test_data_lda_norm, w[k]) + b[k])\n",
    "    theta = 0.3\n",
    "    predict = [1 if i > theta else 0 for i in predicts]\n",
    "    print(np.sum(predict == multi_test_label[:, k])/len(predict))"
   ]
  },
  {
   "cell_type": "code",
   "execution_count": null,
   "metadata": {},
   "outputs": [],
   "source": [
    "# 单分类器测试\n",
    "k = 5 # k = 评分\n",
    "k -= 3\n",
    "predicts = sigmoid(np.dot(test_data_lda, w[k]) + b[k])\n",
    "theta = 0.5\n",
    "predict = [1 if i > theta else 0 for i in predicts]\n",
    "print(np.sum(predict == multi_test_label[:, k])/len(predict))"
   ]
  },
  {
   "cell_type": "code",
   "execution_count": null,
   "metadata": {},
   "outputs": [],
   "source": []
  }
 ],
 "metadata": {
  "kernelspec": {
   "display_name": "MindSpore(1.5.0)",
   "language": "python",
   "name": "mindspore"
  },
  "language_info": {
   "codemirror_mode": {
    "name": "ipython",
    "version": 3
   },
   "file_extension": ".py",
   "mimetype": "text/x-python",
   "name": "python",
   "nbconvert_exporter": "python",
   "pygments_lexer": "ipython3",
   "version": "3.7.5"
  }
 },
 "nbformat": 4,
 "nbformat_minor": 4
}
