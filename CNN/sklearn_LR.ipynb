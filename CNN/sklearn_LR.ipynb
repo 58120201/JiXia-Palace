{
 "cells": [
  {
   "cell_type": "code",
   "execution_count": 1,
   "metadata": {},
   "outputs": [],
   "source": [
    "import os\n",
    "import csv\n",
    "import re\n",
    "import pandas as pd\n",
    "import numpy as np\n",
    "\n",
    "#将数据分割为训练集和测试集\n",
    "from sklearn.model_selection import train_test_split\n",
    "\n",
    "#用于标准化数据\n",
    "from sklearn.preprocessing import StandardScaler\n",
    "#一种线性分类技术\n",
    "from sklearn.linear_model import LogisticRegression\n",
    "#一种线性分类技术\n",
    "from sklearn.linear_model import SGDClassifier\n",
    "#用于分析数据\n",
    "from sklearn.metrics import classification_report"
   ]
  },
  {
   "cell_type": "code",
   "execution_count": 2,
   "metadata": {},
   "outputs": [],
   "source": [
    "# 载入数据,分离数据集与标签\n",
    "red_dataset = pd.read_csv(r'data/winequality-red.csv', sep='/')\n",
    "red_dataset = np.array(red_dataset['fixed acidity;\"volatile acidity\";\"citric acid\";\"residual sugar\";\"chlorides\";' \\\n",
    "                               '\"free sulfur dioxide\";\"total sulfur dioxide\";\"density\";\"pH\";\"sulphates\";\"alcohol\"' \\\n",
    "                               ';\"quality\"'].str.split(';', expand=True).astype(float))\n",
    "red_label = red_dataset[:,11]\n",
    "red_data = red_dataset[:,:11]"
   ]
  },
  {
   "cell_type": "code",
   "execution_count": 3,
   "metadata": {},
   "outputs": [
    {
     "name": "stdout",
     "output_type": "stream",
     "text": [
      "{5.0: 681, 6.0: 638, 7.0: 199, 4.0: 53, 8.0: 18, 3.0: 10}\n",
      "[3. 4. 5. 6. 7. 8.]\n",
      "[[0. 0. 1. 0. 0. 0.]\n",
      " [0. 0. 1. 0. 0. 0.]\n",
      " [0. 0. 1. 0. 0. 0.]\n",
      " ...\n",
      " [0. 0. 0. 1. 0. 0.]\n",
      " [0. 0. 1. 0. 0. 0.]\n",
      " [0. 0. 0. 1. 0. 0.]]\n"
     ]
    }
   ],
   "source": [
    "from collections import Counter\n",
    "# 已知共有6类\n",
    "classes = dict(Counter(red_label))\n",
    "print(classes)\n",
    "\n",
    "# 扩展标签\n",
    "classname = np.unique(red_label)\n",
    "print(classname)\n",
    "multi_red_label = np.zeros([len(red_label),len(classname)])\n",
    "for i in range(len(classname)):\n",
    "    multi_red_label[np.where(red_label==classname[i]),i] = 1\n",
    "print(multi_red_label)"
   ]
  },
  {
   "cell_type": "code",
   "execution_count": 4,
   "metadata": {},
   "outputs": [
    {
     "name": "stdout",
     "output_type": "stream",
     "text": [
      "[[ 8.36        0.8845      0.171       2.635       0.1225     11.\n",
      "  24.9         0.997464    3.398       0.57        9.955     ]\n",
      " [ 7.77924528  0.69396226  0.17415094  2.69433962  0.09067925 12.26415094\n",
      "  36.24528302  0.99654245  3.38150943  0.59641509 10.26509434]\n",
      " [ 8.16725404  0.57704112  0.24368576  2.52885463  0.09273568 16.98384728\n",
      "  56.51395007  0.99710363  3.3049486   0.62096916  9.89970631]\n",
      " [ 8.34717868  0.49748433  0.27382445  2.47719436  0.08495611 15.71159875\n",
      "  40.86990596  0.99661506  3.3180721   0.67532915 10.62951933]\n",
      " [ 8.87236181  0.4039196   0.37517588  2.72060302  0.07658794 14.04522613\n",
      "  35.0201005   0.99610427  3.29075377  0.74125628 11.4659129 ]\n",
      " [ 8.56666667  0.42333333  0.39111111  2.57777778  0.06844444 13.27777778\n",
      "  33.44444444  0.99521222  3.26722222  0.76777778 12.09444444]]\n"
     ]
    }
   ],
   "source": [
    "# 类平均向量mc\n",
    "mc = np.zeros([6,len(red_data[0])])\n",
    "mc_num = np.zeros([6,1])\n",
    "for i in range(len(red_label)):\n",
    "    if red_label[i] == 3.0:\n",
    "        mc[0] += red_data[i]\n",
    "        mc_num[0] += 1\n",
    "        continue\n",
    "    if red_label[i] == 4.0:\n",
    "        mc[1] += red_data[i]\n",
    "        mc_num[1] += 1\n",
    "        continue\n",
    "    if red_label[i] == 5.0:\n",
    "        mc[2] += red_data[i]\n",
    "        mc_num[2] += 1\n",
    "        continue\n",
    "    if red_label[i] == 6.0:\n",
    "        mc[3] += red_data[i]\n",
    "        mc_num[3] += 1\n",
    "        continue\n",
    "    if red_label[i] == 7.0:\n",
    "        mc[4] += red_data[i]\n",
    "        mc_num[4] += 1\n",
    "        continue\n",
    "    if red_label[i] == 8.0:\n",
    "        mc[5] += red_data[i]\n",
    "        mc_num[5] += 1\n",
    "        continue\n",
    "for i in range(len(mc_num)):\n",
    "    mc[i] /= mc_num[i]\n",
    "print(mc)"
   ]
  },
  {
   "cell_type": "code",
   "execution_count": 5,
   "metadata": {},
   "outputs": [
    {
     "name": "stdout",
     "output_type": "stream",
     "text": [
      "[ 8.31963727  0.52782051  0.27097561  2.5388055   0.08746654 15.87492183\n",
      " 46.46779237  0.99674668  3.3111132   0.65814884 10.42298311]\n"
     ]
    }
   ],
   "source": [
    "# 总平均向量m_red\n",
    "m_red = np.zeros(len(red_data[0]))\n",
    "for i in range(len(red_data[0])):\n",
    "    m_red[i] = red_data[:, i].mean()\n",
    "print(m_red)"
   ]
  },
  {
   "cell_type": "code",
   "execution_count": 6,
   "metadata": {},
   "outputs": [
    {
     "name": "stdout",
     "output_type": "stream",
     "text": [
      "(11, 11)\n",
      "(11, 11)\n"
     ]
    }
   ],
   "source": [
    "# 构建Sw,Sb，ST\n",
    "Sw = np.zeros([11,11])\n",
    "for i in range(6):\n",
    "    for j in range(len(red_label)):\n",
    "        if red_label[j] == i + 3.0:\n",
    "            temp = red_data[j] - mc[i]\n",
    "            Sw += np.outer(temp ,temp.T)\n",
    "# print(Sw)\n",
    "print(Sw.shape)\n",
    "Sb = np.zeros([11,11])\n",
    "for i in range(6):\n",
    "    temp = mc[i] - m_red[i]\n",
    "    Sb += mc_num[i] * np.outer(temp, temp.T)\n",
    "# print(Sb)\n",
    "print(Sb.shape)\n",
    "ST = Sw + Sb"
   ]
  },
  {
   "cell_type": "code",
   "execution_count": 7,
   "metadata": {},
   "outputs": [
    {
     "name": "stdout",
     "output_type": "stream",
     "text": [
      "[[-2.74552829e-04  1.28562299e-02 -2.50568540e-01  2.27669489e-02\n",
      "  -5.99098685e-02 -2.09164760e-01  7.04469466e-02  9.38155507e-01\n",
      "  -4.54682008e-02 -3.14779259e-02 -3.21851047e-02]\n",
      " [-7.92595834e-04  7.36531677e-02  2.38170779e-02  5.35051615e-01\n",
      "   5.05020254e-01 -1.48959618e-01 -6.54835603e-01  4.06150372e-02\n",
      "  -3.31841227e-03  1.19866487e-03  4.58008733e-03]\n",
      " [-1.09329735e-04  9.85638358e-02 -9.27002507e-03  8.29664621e-01\n",
      "  -2.35901397e-01  6.63070637e-02  4.87890329e-01 -6.10991220e-02\n",
      "  -5.71100167e-03 -8.97707898e-04  2.49966023e-03]\n",
      " [-3.60816726e-04  1.07744579e-03 -1.49084771e-02 -5.22253623e-03\n",
      "  -1.81692269e-03 -3.68368652e-02  1.11458633e-02  2.66870830e-02\n",
      "   3.01697911e-05  1.79201058e-01  9.82567791e-01]\n",
      " [-1.85298819e-03 -9.87557587e-01  1.75382971e-02  1.13132944e-01\n",
      "   9.16431602e-02 -1.73152293e-03  5.41276629e-02  1.69483614e-02\n",
      "   6.70572301e-04  3.33183511e-04  9.19099031e-04]\n",
      " [-1.80956741e-06 -7.99657238e-04  7.14413098e-03 -4.46515340e-03\n",
      "   9.21745478e-04 -3.37232044e-03  1.10287211e-03 -1.27207309e-02\n",
      "  -6.89668122e-01  7.12262615e-01 -1.29587722e-01]\n",
      " [ 2.85004545e-06  2.17454919e-03 -9.42579721e-03  7.32169443e-03\n",
      "  -8.14411083e-04  1.78972146e-02  1.28023120e-03  5.45883784e-02\n",
      "   7.22203322e-01  6.77829415e-01 -1.24579131e-01]]\n"
     ]
    }
   ],
   "source": [
    "# 求解投影方向\n",
    "w = np.linalg.eig(np.linalg.pinv(Sw)*Sb)[1][0:7]\n",
    "print(w)"
   ]
  },
  {
   "cell_type": "code",
   "execution_count": 8,
   "metadata": {},
   "outputs": [
    {
     "name": "stdout",
     "output_type": "stream",
     "text": [
      "[[ 5.96386102e-01 -2.27296926e+01  1.88862526e+01 ...  1.36629974e+00\n",
      "  -3.26127014e+00  2.05373241e+00]\n",
      " [ 6.15743850e-03 -4.60231510e+01  3.65109292e+01 ...  3.03116174e+00\n",
      "  -3.02789157e+00  2.15961113e+00]\n",
      " [ 1.16236250e+00 -3.61923503e+01  2.92452739e+01 ...  2.42956968e+00\n",
      "  -3.06954047e+00  1.98417461e+00]\n",
      " ...\n",
      " [-2.82682314e+00 -2.91282138e+01  2.33236443e+01 ...  1.89854428e+00\n",
      "  -3.32597219e+00  2.24920091e+00]\n",
      " [-3.15501505e+00 -3.23496543e+01  2.52361019e+01 ...  1.94242178e+00\n",
      "  -3.35878482e+00  2.48707035e+00]\n",
      " [-4.38700329e-01 -2.81147208e+01  2.46281700e+01 ...  2.37607049e+00\n",
      "  -3.33330485e+00  1.97809261e+00]]\n"
     ]
    }
   ],
   "source": [
    "# LDA降维与可视化\n",
    "import matplotlib.pyplot as plt\n",
    "red_data_lda = np.dot(red_data, w.T)\n",
    "print(red_data_lda)\n",
    "\n",
    "\n",
    "if len(red_data_lda[0]) == 2:\n",
    "    color = ['y', 'gold', 'sandybrown', 'peru', 'red', 'darkred']\n",
    "    alpha = [0.2, 0.2, 0.4, 0.4, 0.6, 1]\n",
    "    for i, c, a in zip(classname, color, alpha):\n",
    "        plt.scatter(red_data_lda[np.where(red_label==i), 0], red_data_lda[np.where(red_label==i), 1], c=c, alpha=a)\n",
    "    plt.show()"
   ]
  },
  {
   "cell_type": "code",
   "execution_count": 9,
   "metadata": {},
   "outputs": [],
   "source": [
    "ss = StandardScaler()\n",
    "# X_train = ss.fit_transform(X_train)\n",
    "# X_test = ss.fit_transform(X_test)"
   ]
  },
  {
   "cell_type": "code",
   "execution_count": 10,
   "metadata": {},
   "outputs": [],
   "source": [
    "lr = LogisticRegression(multi_class='ovr')\n",
    "\n",
    "# lr.fit(X_train, y_train)\n",
    "# lr_y_predict = lr.predict(X_test)#用fit之后的结果对X_test进行预测\n",
    "\n",
    "# print('Accuracy of LR Classifier:', lr.score(X_test, y_test))\n",
    "# print(classification_report(y_test, lr_y_predict, target_names=['3', '4', '5', '6', '7', '8']))"
   ]
  },
  {
   "cell_type": "code",
   "execution_count": 11,
   "metadata": {},
   "outputs": [],
   "source": [
    "sgdc = SGDClassifier()\n",
    "\n",
    "# sgdc.fit(X_train, y_train)\n",
    "# sgdc_y_predict = sgdc.predict(X_test)\n",
    "\n",
    "# print('Accuarcy of SGD Classifier:', sgdc.score(X_test, y_test))\n",
    "# print(classification_report(y_test, sgdc_y_predict, target_names=['3', '4', '5', '6', '7', '8']))"
   ]
  },
  {
   "cell_type": "code",
   "execution_count": 12,
   "metadata": {},
   "outputs": [],
   "source": [
    "# 降维后"
   ]
  },
  {
   "cell_type": "code",
   "execution_count": 13,
   "metadata": {},
   "outputs": [],
   "source": [
    "# 5重交叉验证\n",
    "from sklearn.model_selection import KFold\n",
    "\n",
    "kf = KFold(n_splits=5)"
   ]
  },
  {
   "cell_type": "code",
   "execution_count": 19,
   "metadata": {
    "scrolled": true
   },
   "outputs": [
    {
     "name": "stdout",
     "output_type": "stream",
     "text": [
      "训练耗时为\n",
      "  0.034994 s\n",
      "\u001b[1;31;47m   Ford1:acc = 0.565625 \u001b[0m\n",
      "训练耗时为\n",
      "  0.035003 s\n",
      "\u001b[1;31;47m   Ford2:acc = 0.484375 \u001b[0m\n",
      "训练耗时为\n",
      "  0.036008 s\n",
      "\u001b[1;31;47m   Ford3:acc = 0.565625 \u001b[0m\n",
      "训练耗时为\n",
      "  0.032009 s\n",
      "\u001b[1;31;47m   Ford4:acc = 0.490625 \u001b[0m\n",
      "训练耗时为\n",
      "  0.031005 s\n",
      "\u001b[1;31;47m   Ford5:acc = 0.630094 \u001b[0m\n"
     ]
    }
   ],
   "source": [
    "# 对降维后的数据进行logistic回归分类\n",
    "# 使用交叉验证，记录每次学习得到的w和b\n",
    "import time\n",
    "\n",
    "w_stack = []\n",
    "acc_stack = []\n",
    "ford = 1\n",
    "for X_train_i,X_test_i in kf.split(red_data_lda):\n",
    "    time_start = time.time()\n",
    "    w = np.ones([6, len(red_data_lda[0])])\n",
    "    b = np.ones([6, 1])\n",
    "    \n",
    "    X_train = ss.fit_transform(red_data_lda[X_train_i])\n",
    "    X_test = ss.fit_transform(red_data_lda[X_test_i])\n",
    "    y_train = red_label[X_train_i]\n",
    "    y_test = red_label[X_test_i]\n",
    "\n",
    "    lr.fit(X_train, y_train)\n",
    "    lr_y_predict = lr.predict(X_test)\n",
    "    acc = lr.score(X_test, y_test)\n",
    "    time_end = time.time()\n",
    "    print('%s  %f s' % (\"训练耗时为\\n\", (time_end - time_start)))\n",
    "    print(\"\\033[1;31;47m   Ford%d:acc = %f \\033[0m\" %(ford, acc))\n",
    "    #print(classification_report(y_test, lr_y_predict, target_names=['3', '4', '5', '6', '7', '8']))\n",
    "    w_stack.append(lr.coef_)\n",
    "    acc_stack.append(acc)\n",
    "    ford += 1\n",
    "\n"
   ]
  },
  {
   "cell_type": "code",
   "execution_count": 15,
   "metadata": {},
   "outputs": [
    {
     "name": "stdout",
     "output_type": "stream",
     "text": [
      "降维后总精度 = 0.584740\n"
     ]
    }
   ],
   "source": [
    "# 取平均得到最终分类器\n",
    "# 降维后\n",
    "from numpy import *\n",
    "w = np.array(w_stack).mean(0)\n",
    "predict = np.zeros(len(red_label))\n",
    "\n",
    "lr_y_predict = lr.predict(ss.fit_transform(red_data_lda))\n",
    "acc = lr.score(ss.fit_transform(red_data_lda), red_label)\n",
    "print(\"降维后总精度 = %f\" %acc)"
   ]
  },
  {
   "cell_type": "code",
   "execution_count": 16,
   "metadata": {},
   "outputs": [
    {
     "ename": "NotFittedError",
     "evalue": "This SGDClassifier instance is not fitted yet. Call 'fit' with appropriate arguments before using this estimator.",
     "output_type": "error",
     "traceback": [
      "\u001b[1;31m---------------------------------------------------------------------------\u001b[0m",
      "\u001b[1;31mNotFittedError\u001b[0m                            Traceback (most recent call last)",
      "\u001b[1;32m<ipython-input-16-73ccdf36b831>\u001b[0m in \u001b[0;36m<module>\u001b[1;34m\u001b[0m\n\u001b[0;32m      5\u001b[0m \u001b[0mpredict\u001b[0m \u001b[1;33m=\u001b[0m \u001b[0mnp\u001b[0m\u001b[1;33m.\u001b[0m\u001b[0mzeros\u001b[0m\u001b[1;33m(\u001b[0m\u001b[0mlen\u001b[0m\u001b[1;33m(\u001b[0m\u001b[0mred_label\u001b[0m\u001b[1;33m)\u001b[0m\u001b[1;33m)\u001b[0m\u001b[1;33m\u001b[0m\u001b[1;33m\u001b[0m\u001b[0m\n\u001b[0;32m      6\u001b[0m \u001b[1;33m\u001b[0m\u001b[0m\n\u001b[1;32m----> 7\u001b[1;33m \u001b[0mlr_y_predict\u001b[0m \u001b[1;33m=\u001b[0m \u001b[0msgdc\u001b[0m\u001b[1;33m.\u001b[0m\u001b[0mpredict\u001b[0m\u001b[1;33m(\u001b[0m\u001b[0mss\u001b[0m\u001b[1;33m.\u001b[0m\u001b[0mfit_transform\u001b[0m\u001b[1;33m(\u001b[0m\u001b[0mred_data_lda\u001b[0m\u001b[1;33m)\u001b[0m\u001b[1;33m)\u001b[0m\u001b[1;33m\u001b[0m\u001b[1;33m\u001b[0m\u001b[0m\n\u001b[0m\u001b[0;32m      8\u001b[0m \u001b[0macc\u001b[0m \u001b[1;33m=\u001b[0m \u001b[0msgdc\u001b[0m\u001b[1;33m.\u001b[0m\u001b[0mscore\u001b[0m\u001b[1;33m(\u001b[0m\u001b[0mss\u001b[0m\u001b[1;33m.\u001b[0m\u001b[0mfit_transform\u001b[0m\u001b[1;33m(\u001b[0m\u001b[0mred_data_lda\u001b[0m\u001b[1;33m)\u001b[0m\u001b[1;33m,\u001b[0m \u001b[0mred_label\u001b[0m\u001b[1;33m)\u001b[0m\u001b[1;33m\u001b[0m\u001b[1;33m\u001b[0m\u001b[0m\n\u001b[0;32m      9\u001b[0m \u001b[0mprint\u001b[0m\u001b[1;33m(\u001b[0m\u001b[1;34m\"降维后总精度 = %f\"\u001b[0m \u001b[1;33m%\u001b[0m\u001b[0macc\u001b[0m\u001b[1;33m)\u001b[0m\u001b[1;33m\u001b[0m\u001b[1;33m\u001b[0m\u001b[0m\n",
      "\u001b[1;32mD:\\Anacoda\\lib\\site-packages\\sklearn\\linear_model\\_base.py\u001b[0m in \u001b[0;36mpredict\u001b[1;34m(self, X)\u001b[0m\n\u001b[0;32m    305\u001b[0m             \u001b[0mPredicted\u001b[0m \u001b[1;32mclass\u001b[0m \u001b[0mlabel\u001b[0m \u001b[0mper\u001b[0m \u001b[0msample\u001b[0m\u001b[1;33m.\u001b[0m\u001b[1;33m\u001b[0m\u001b[1;33m\u001b[0m\u001b[0m\n\u001b[0;32m    306\u001b[0m         \"\"\"\n\u001b[1;32m--> 307\u001b[1;33m         \u001b[0mscores\u001b[0m \u001b[1;33m=\u001b[0m \u001b[0mself\u001b[0m\u001b[1;33m.\u001b[0m\u001b[0mdecision_function\u001b[0m\u001b[1;33m(\u001b[0m\u001b[0mX\u001b[0m\u001b[1;33m)\u001b[0m\u001b[1;33m\u001b[0m\u001b[1;33m\u001b[0m\u001b[0m\n\u001b[0m\u001b[0;32m    308\u001b[0m         \u001b[1;32mif\u001b[0m \u001b[0mlen\u001b[0m\u001b[1;33m(\u001b[0m\u001b[0mscores\u001b[0m\u001b[1;33m.\u001b[0m\u001b[0mshape\u001b[0m\u001b[1;33m)\u001b[0m \u001b[1;33m==\u001b[0m \u001b[1;36m1\u001b[0m\u001b[1;33m:\u001b[0m\u001b[1;33m\u001b[0m\u001b[1;33m\u001b[0m\u001b[0m\n\u001b[0;32m    309\u001b[0m             \u001b[0mindices\u001b[0m \u001b[1;33m=\u001b[0m \u001b[1;33m(\u001b[0m\u001b[0mscores\u001b[0m \u001b[1;33m>\u001b[0m \u001b[1;36m0\u001b[0m\u001b[1;33m)\u001b[0m\u001b[1;33m.\u001b[0m\u001b[0mastype\u001b[0m\u001b[1;33m(\u001b[0m\u001b[0mnp\u001b[0m\u001b[1;33m.\u001b[0m\u001b[0mint\u001b[0m\u001b[1;33m)\u001b[0m\u001b[1;33m\u001b[0m\u001b[1;33m\u001b[0m\u001b[0m\n",
      "\u001b[1;32mD:\\Anacoda\\lib\\site-packages\\sklearn\\linear_model\\_base.py\u001b[0m in \u001b[0;36mdecision_function\u001b[1;34m(self, X)\u001b[0m\n\u001b[0;32m    278\u001b[0m             \u001b[1;32mclass\u001b[0m \u001b[0mwould\u001b[0m \u001b[0mbe\u001b[0m \u001b[0mpredicted\u001b[0m\u001b[1;33m.\u001b[0m\u001b[1;33m\u001b[0m\u001b[1;33m\u001b[0m\u001b[0m\n\u001b[0;32m    279\u001b[0m         \"\"\"\n\u001b[1;32m--> 280\u001b[1;33m         \u001b[0mcheck_is_fitted\u001b[0m\u001b[1;33m(\u001b[0m\u001b[0mself\u001b[0m\u001b[1;33m)\u001b[0m\u001b[1;33m\u001b[0m\u001b[1;33m\u001b[0m\u001b[0m\n\u001b[0m\u001b[0;32m    281\u001b[0m \u001b[1;33m\u001b[0m\u001b[0m\n\u001b[0;32m    282\u001b[0m         \u001b[0mX\u001b[0m \u001b[1;33m=\u001b[0m \u001b[0mcheck_array\u001b[0m\u001b[1;33m(\u001b[0m\u001b[0mX\u001b[0m\u001b[1;33m,\u001b[0m \u001b[0maccept_sparse\u001b[0m\u001b[1;33m=\u001b[0m\u001b[1;34m'csr'\u001b[0m\u001b[1;33m)\u001b[0m\u001b[1;33m\u001b[0m\u001b[1;33m\u001b[0m\u001b[0m\n",
      "\u001b[1;32mD:\\Anacoda\\lib\\site-packages\\sklearn\\utils\\validation.py\u001b[0m in \u001b[0;36minner_f\u001b[1;34m(*args, **kwargs)\u001b[0m\n\u001b[0;32m     70\u001b[0m                           FutureWarning)\n\u001b[0;32m     71\u001b[0m         \u001b[0mkwargs\u001b[0m\u001b[1;33m.\u001b[0m\u001b[0mupdate\u001b[0m\u001b[1;33m(\u001b[0m\u001b[1;33m{\u001b[0m\u001b[0mk\u001b[0m\u001b[1;33m:\u001b[0m \u001b[0marg\u001b[0m \u001b[1;32mfor\u001b[0m \u001b[0mk\u001b[0m\u001b[1;33m,\u001b[0m \u001b[0marg\u001b[0m \u001b[1;32min\u001b[0m \u001b[0mzip\u001b[0m\u001b[1;33m(\u001b[0m\u001b[0msig\u001b[0m\u001b[1;33m.\u001b[0m\u001b[0mparameters\u001b[0m\u001b[1;33m,\u001b[0m \u001b[0margs\u001b[0m\u001b[1;33m)\u001b[0m\u001b[1;33m}\u001b[0m\u001b[1;33m)\u001b[0m\u001b[1;33m\u001b[0m\u001b[1;33m\u001b[0m\u001b[0m\n\u001b[1;32m---> 72\u001b[1;33m         \u001b[1;32mreturn\u001b[0m \u001b[0mf\u001b[0m\u001b[1;33m(\u001b[0m\u001b[1;33m**\u001b[0m\u001b[0mkwargs\u001b[0m\u001b[1;33m)\u001b[0m\u001b[1;33m\u001b[0m\u001b[1;33m\u001b[0m\u001b[0m\n\u001b[0m\u001b[0;32m     73\u001b[0m     \u001b[1;32mreturn\u001b[0m \u001b[0minner_f\u001b[0m\u001b[1;33m\u001b[0m\u001b[1;33m\u001b[0m\u001b[0m\n\u001b[0;32m     74\u001b[0m \u001b[1;33m\u001b[0m\u001b[0m\n",
      "\u001b[1;32mD:\\Anacoda\\lib\\site-packages\\sklearn\\utils\\validation.py\u001b[0m in \u001b[0;36mcheck_is_fitted\u001b[1;34m(estimator, attributes, msg, all_or_any)\u001b[0m\n\u001b[0;32m   1017\u001b[0m \u001b[1;33m\u001b[0m\u001b[0m\n\u001b[0;32m   1018\u001b[0m     \u001b[1;32mif\u001b[0m \u001b[1;32mnot\u001b[0m \u001b[0mattrs\u001b[0m\u001b[1;33m:\u001b[0m\u001b[1;33m\u001b[0m\u001b[1;33m\u001b[0m\u001b[0m\n\u001b[1;32m-> 1019\u001b[1;33m         \u001b[1;32mraise\u001b[0m \u001b[0mNotFittedError\u001b[0m\u001b[1;33m(\u001b[0m\u001b[0mmsg\u001b[0m \u001b[1;33m%\u001b[0m \u001b[1;33m{\u001b[0m\u001b[1;34m'name'\u001b[0m\u001b[1;33m:\u001b[0m \u001b[0mtype\u001b[0m\u001b[1;33m(\u001b[0m\u001b[0mestimator\u001b[0m\u001b[1;33m)\u001b[0m\u001b[1;33m.\u001b[0m\u001b[0m__name__\u001b[0m\u001b[1;33m}\u001b[0m\u001b[1;33m)\u001b[0m\u001b[1;33m\u001b[0m\u001b[1;33m\u001b[0m\u001b[0m\n\u001b[0m\u001b[0;32m   1020\u001b[0m \u001b[1;33m\u001b[0m\u001b[0m\n\u001b[0;32m   1021\u001b[0m \u001b[1;33m\u001b[0m\u001b[0m\n",
      "\u001b[1;31mNotFittedError\u001b[0m: This SGDClassifier instance is not fitted yet. Call 'fit' with appropriate arguments before using this estimator."
     ]
    }
   ],
   "source": [
    "# 取平均得到最终分类器\n",
    "# 降维后\n",
    "from numpy import *\n",
    "w = np.array(w_stack).mean(0)\n",
    "predict = np.zeros(len(red_label))\n",
    "\n",
    "lr_y_predict = sgdc.predict(ss.fit_transform(red_data_lda))\n",
    "acc = sgdc.score(ss.fit_transform(red_data_lda), red_label)\n",
    "print(\"降维后总精度 = %f\" %acc)"
   ]
  },
  {
   "cell_type": "code",
   "execution_count": null,
   "metadata": {},
   "outputs": [],
   "source": []
  }
 ],
 "metadata": {
  "kernelspec": {
   "display_name": "Python 3",
   "language": "python",
   "name": "python3"
  },
  "language_info": {
   "codemirror_mode": {
    "name": "ipython",
    "version": 3
   },
   "file_extension": ".py",
   "mimetype": "text/x-python",
   "name": "python",
   "nbconvert_exporter": "python",
   "pygments_lexer": "ipython3",
   "version": "3.8.5"
  }
 },
 "nbformat": 4,
 "nbformat_minor": 4
}
