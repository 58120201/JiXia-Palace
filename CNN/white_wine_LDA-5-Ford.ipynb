{
 "cells": [
  {
   "cell_type": "code",
   "execution_count": 1,
   "metadata": {},
   "outputs": [],
   "source": [
    "import os\n",
    "import csv\n",
    "import re\n",
    "import pandas as pd\n",
    "import numpy as np"
   ]
  },
  {
   "cell_type": "code",
   "execution_count": 2,
   "metadata": {},
   "outputs": [],
   "source": [
    "# 载入数据,分离数据集与标签\n",
    "white_dataset = pd.read_csv(r'data/winequality-white.csv', sep='/')\n",
    "white_dataset = np.array(white_dataset['fixed acidity;\"volatile acidity\";\"citric acid\";\"residual sugar\";\"chlorides\";' \\\n",
    "                               '\"free sulfur dioxide\";\"total sulfur dioxide\";\"density\";\"pH\";\"sulphates\";\"alcohol\"' \\\n",
    "                               ';\"quality\"'].str.split(';', expand=True).astype(float))\n",
    "white_label = white_dataset[:,11]\n",
    "white_data = white_dataset[:,:11]"
   ]
  },
  {
   "cell_type": "code",
   "execution_count": 3,
   "metadata": {},
   "outputs": [
    {
     "name": "stdout",
     "output_type": "stream",
     "text": [
      "{6.0: 2198, 5.0: 1457, 7.0: 880, 8.0: 175, 4.0: 163, 3.0: 20, 9.0: 5}\n",
      "[3. 4. 5. 6. 7. 8. 9.]\n",
      "[[0. 0. 0. ... 0. 0. 0.]\n",
      " [0. 0. 0. ... 0. 0. 0.]\n",
      " [0. 0. 0. ... 0. 0. 0.]\n",
      " ...\n",
      " [0. 0. 0. ... 0. 0. 0.]\n",
      " [0. 0. 0. ... 1. 0. 0.]\n",
      " [0. 0. 0. ... 0. 0. 0.]]\n"
     ]
    }
   ],
   "source": [
    "from collections import Counter\n",
    "# 已知共有6类\n",
    "classes = dict(Counter(white_label))\n",
    "print(classes)\n",
    "\n",
    "# 扩展标签\n",
    "classname = np.unique(white_label)\n",
    "print(classname)\n",
    "multi_white_label = np.zeros([len(white_label),len(classname)])\n",
    "for i in range(len(classname)):\n",
    "    multi_white_label[np.where(white_label==classname[i]),i] = 1\n",
    "print(multi_white_label)"
   ]
  },
  {
   "cell_type": "code",
   "execution_count": 4,
   "metadata": {
    "scrolled": true
   },
   "outputs": [
    {
     "name": "stdout",
     "output_type": "stream",
     "text": [
      "[[7.60000000e+00 3.33250000e-01 3.36000000e-01 6.39250000e+00\n",
      "  5.43000000e-02 5.33250000e+01 1.70600000e+02 9.94884000e-01\n",
      "  3.18750000e+00 4.74500000e-01 1.03450000e+01]\n",
      " [7.12944785e+00 3.81226994e-01 3.04233129e-01 4.62822086e+00\n",
      "  5.00981595e-02 2.33588957e+01 1.25279141e+02 9.94276687e-01\n",
      "  3.18288344e+00 4.76134969e-01 1.01524540e+01]\n",
      " [6.93397392e+00 3.02010981e-01 3.37652711e-01 7.33496911e+00\n",
      "  5.15463281e-02 3.64320522e+01 1.50904598e+02 9.95262570e-01\n",
      "  3.16883322e+00 4.82203157e-01 9.80884008e+00]\n",
      " [6.83767061e+00 2.60564149e-01 3.38025478e-01 6.44160601e+00\n",
      "  4.52174704e-02 3.56505914e+01 1.37047316e+02 9.93961349e-01\n",
      "  3.18859873e+00 4.91105551e-01 1.05753715e+01]\n",
      " [6.73471591e+00 2.62767045e-01 3.25625000e-01 5.18647727e+00\n",
      "  3.81909091e-02 3.41255682e+01 1.25114773e+02 9.92452398e-01\n",
      "  3.21389773e+00 5.03102273e-01 1.13679356e+01]\n",
      " [6.65714286e+00 2.77400000e-01 3.26514286e-01 5.67142857e+00\n",
      "  3.83142857e-02 3.67200000e+01 1.26165714e+02 9.92235943e-01\n",
      "  3.21868571e+00 4.86228571e-01 1.16360000e+01]\n",
      " [7.42000000e+00 2.98000000e-01 3.86000000e-01 4.12000000e+00\n",
      "  2.74000000e-02 3.34000000e+01 1.16000000e+02 9.91460000e-01\n",
      "  3.30800000e+00 4.66000000e-01 1.21800000e+01]]\n"
     ]
    }
   ],
   "source": [
    "# 类平均向量mc\n",
    "mc = np.zeros([7,len(white_data[0])])\n",
    "mc_num = np.zeros([7,1])\n",
    "for i in range(len(white_label)):\n",
    "    if white_label[i] == 3.0:\n",
    "        mc[0] += white_data[i]\n",
    "        mc_num[0] += 1\n",
    "        continue\n",
    "    if white_label[i] == 4.0:\n",
    "        mc[1] += white_data[i]\n",
    "        mc_num[1] += 1\n",
    "        continue\n",
    "    if white_label[i] == 5.0:\n",
    "        mc[2] += white_data[i]\n",
    "        mc_num[2] += 1\n",
    "        continue\n",
    "    if white_label[i] == 6.0:\n",
    "        mc[3] += white_data[i]\n",
    "        mc_num[3] += 1\n",
    "        continue\n",
    "    if white_label[i] == 7.0:\n",
    "        mc[4] += white_data[i]\n",
    "        mc_num[4] += 1\n",
    "        continue\n",
    "    if white_label[i] == 8.0:\n",
    "        mc[5] += white_data[i]\n",
    "        mc_num[5] += 1\n",
    "        continue\n",
    "    if white_label[i] == 9.0:\n",
    "        mc[6] += white_data[i]\n",
    "        mc_num[6] += 1\n",
    "        continue\n",
    "for i in range(len(mc_num)):\n",
    "    mc[i] /= mc_num[i]\n",
    "print(mc)"
   ]
  },
  {
   "cell_type": "code",
   "execution_count": 5,
   "metadata": {},
   "outputs": [
    {
     "name": "stdout",
     "output_type": "stream",
     "text": [
      "[6.85478767e+00 2.78241119e-01 3.34191507e-01 6.39141486e+00\n",
      " 4.57723561e-02 3.53080849e+01 1.38360657e+02 9.94027376e-01\n",
      " 3.18826664e+00 4.89846876e-01 1.05142670e+01]\n"
     ]
    }
   ],
   "source": [
    "# 总平均向量m_white\n",
    "m_white = np.zeros(len(white_data[0]))\n",
    "for i in range(len(white_data[0])):\n",
    "    m_white[i] = white_data[:, i].mean()\n",
    "print(m_white)"
   ]
  },
  {
   "cell_type": "code",
   "execution_count": 6,
   "metadata": {},
   "outputs": [
    {
     "name": "stdout",
     "output_type": "stream",
     "text": [
      "(11, 11)\n",
      "(11, 11)\n"
     ]
    }
   ],
   "source": [
    "# 构建Sw,Sb，ST\n",
    "Sw = np.zeros([11,11])\n",
    "for i in range(7):\n",
    "    for j in range(len(white_label)):\n",
    "        if white_label[j] == i + 3.0:\n",
    "            temp = white_data[j] - mc[i]\n",
    "            Sw += np.outer(temp ,temp.T)\n",
    "# print(Sw)\n",
    "print(Sw.shape)\n",
    "Sb = np.zeros([11,11])\n",
    "for i in range(7):\n",
    "    temp = mc[i] - m_white[i]\n",
    "    Sb += mc_num[i] * np.outer(temp, temp.T)\n",
    "# print(Sb)\n",
    "print(Sb.shape)\n",
    "ST = Sw + Sb"
   ]
  },
  {
   "cell_type": "code",
   "execution_count": 7,
   "metadata": {},
   "outputs": [
    {
     "name": "stdout",
     "output_type": "stream",
     "text": [
      "[[ 5.63355806e-04  1.18139461e-03 -1.38304397e-03  4.41024716e-03\n",
      "  -3.41101829e-02 -9.56600834e-02 -3.18302163e-01  9.39773175e-01\n",
      "  -1.32586186e-02  6.87146114e-02 -1.65888917e-02]\n",
      " [ 4.84821285e-04 -2.49485176e-02 -9.53434715e-01 -1.48669362e-01\n",
      "  -2.54701117e-01  5.70670443e-02  8.92304137e-03 -8.36207580e-04\n",
      "  -3.24808428e-03 -4.09991737e-03 -1.26101650e-04]\n",
      " [ 3.49197309e-04 -2.15777641e-02 -2.92223172e-01  4.17803733e-01\n",
      "   8.58829743e-01  3.24481112e-02 -1.36228709e-02  2.73858392e-02\n",
      "  -7.66294477e-04  1.12013322e-03 -1.05810011e-03]\n",
      " [ 2.86582377e-04  2.89826941e-04  1.70646607e-03  1.84602333e-03\n",
      "  -1.09620568e-03 -1.75048965e-02 -1.13823234e-01  3.41114469e-02\n",
      "   1.11038859e-01 -9.85252120e-01  5.01518043e-02]\n",
      " [ 4.81207911e-03  9.99389842e-01 -2.94876281e-02  1.73620168e-03\n",
      "   1.37899211e-02  1.08753818e-02 -3.80741782e-03 -1.02798306e-03\n",
      "  -3.08558205e-04  4.05021718e-04 -6.82274626e-05]\n",
      " [ 3.87428138e-06  1.92196421e-05  9.42585295e-04  3.28692511e-04\n",
      "   6.59222633e-04  9.87667618e-04  1.11373123e-02  1.49905836e-02\n",
      "  -3.45962413e-01  7.97396597e-03  9.38027324e-01]\n",
      " [-1.92714392e-05  1.38931380e-04 -3.95797031e-03 -2.08334767e-03\n",
      "   5.41257689e-04 -4.19422805e-03 -1.36329935e-02  5.08071367e-03\n",
      "   9.31154155e-01  1.24188176e-01  3.42461172e-01]\n",
      " [-9.99981876e-01  4.81596214e-03 -9.16275994e-04 -4.84952423e-04\n",
      "   5.67902418e-04 -3.37336414e-03 -4.81683915e-04  1.20932872e-04\n",
      "  -2.74554743e-05 -1.75728618e-04  3.42912053e-06]]\n"
     ]
    }
   ],
   "source": [
    "# 求解投影方向\n",
    "w = np.linalg.eig(np.linalg.pinv(Sw)*Sb)[1][0:8]\n",
    "print(w)"
   ]
  },
  {
   "cell_type": "code",
   "execution_count": 8,
   "metadata": {},
   "outputs": [
    {
     "name": "stdout",
     "output_type": "stream",
     "text": [
      "[[-5.75366734e+01  6.35901885e-01  7.73918673e+00 ...  9.18034045e+00\n",
      "   3.31711890e+00 -7.24261350e+00]\n",
      " [-4.25798516e+01  1.38307397e+00 -7.21816372e-01 ...  9.27325293e+00\n",
      "   4.52908567e+00 -6.41033396e+00]\n",
      " [-3.29574146e+01  1.14006182e+00  2.47226913e+00 ...  9.47732824e+00\n",
      "   5.08984337e+00 -8.25012512e+00]\n",
      " ...\n",
      " [-3.74249740e+01  2.31602098e+00 -4.50906793e-02 ...  9.06807805e+00\n",
      "   4.42304443e+00 -6.65413761e+00]\n",
      " [-3.62206784e+01  1.64828933e+00 -4.51680483e-01 ...  1.21146299e+01\n",
      "   5.95872592e+00 -5.61974706e+00]\n",
      " [-3.25793476e+01  1.62705198e+00 -3.70773709e-01 ...  1.10721154e+01\n",
      "   5.68981879e+00 -6.12100935e+00]]\n"
     ]
    },
    {
     "data": {
      "image/png": "[encoded data removed]",
      "text/plain": [
       "<Figure size 432x288 with 1 Axes>"
      ]
     },
     "metadata": {
      "needs_background": "light"
     },
     "output_type": "display_data"
    }
   ],
   "source": [
    "# LDA降维与可视化\n",
    "import matplotlib.pyplot as plt\n",
    "white_data_lda = np.dot(white_data, w.T)\n",
    "print(white_data_lda)\n",
    "\n",
    "\n",
    "color = ['y', 'gold', 'sandybrown', 'peru', 'red', 'darkred', 'k']\n",
    "alpha = [0.2, 0.2, 0.4, 0.4, 0.6, 0.6, 1]\n",
    "for i, c, a in zip(classname, color, alpha):\n",
    "    plt.scatter(white_data_lda[np.where(white_label==i), 0], white_data_lda[np.where(white_label==i), 1], c=c, alpha=a)\n",
    "plt.show()"
   ]
  },
  {
   "cell_type": "code",
   "execution_count": 9,
   "metadata": {},
   "outputs": [],
   "source": [
    "# from sklearn import preprocessing\n",
    "# # 数据归一化\n",
    "# white_data_lda_norm = preprocessing.minmax_scale(white_data_lda ,feature_range=(-1, 1), axis=0, copy=True)\n",
    "# color = ['y', 'gold', 'sandybrown', 'peru', 'red', 'darkred', 'k']\n",
    "# alpha = [0.2, 0.2, 0.4, 0.4, 0.6, 0.6, 1]\n",
    "# for i, c, a in zip(classname, color, alpha):\n",
    "#     plt.scatter(white_data_lda_norm[np.where(white_label==i), 0], white_data_lda_norm[np.where(white_label==i), 1], c=c, alpha=a)\n",
    "# plt.show()"
   ]
  },
  {
   "cell_type": "code",
   "execution_count": 10,
   "metadata": {},
   "outputs": [
    {
     "data": {
      "image/png": "[encoded data removed]",
      "text/plain": [
       "<Figure size 432x288 with 1 Axes>"
      ]
     },
     "metadata": {
      "needs_background": "light"
     },
     "output_type": "display_data"
    }
   ],
   "source": [
    "# 朴素数据归一化\n",
    "s = np.std(white_data_lda, axis=0)\n",
    "m_white_norm = np.zeros(len(white_data_lda[0]))\n",
    "for i in range(len(white_data_lda[0])):\n",
    "    m_white_norm[i] = white_data_lda[:, i].mean(0)\n",
    "white_data_lda_norm = (white_data_lda - m_white_norm)/s\n",
    "color = ['y', 'gold', 'sandybrown', 'peru', 'red', 'darkred', 'k']\n",
    "alpha = [0.2, 0.2, 0.4, 0.4, 0.6, 0.6, 1]\n",
    "for i, c, a in zip(classname, color, alpha):\n",
    "    plt.scatter(white_data_lda_norm[np.where(white_label==i), 0], white_data_lda_norm[np.where(white_label==i), 1], c=c, alpha=a)\n",
    "plt.show()"
   ]
  },
  {
   "cell_type": "code",
   "execution_count": 11,
   "metadata": {},
   "outputs": [],
   "source": [
    "# softmax判断函数\n",
    "def softmax(w, b, x):\n",
    "    s = np.exp(np.dot(w, x.reshape(x.shape[0],1)) + b)\n",
    "    return s/s.sum()"
   ]
  },
  {
   "cell_type": "code",
   "execution_count": 12,
   "metadata": {},
   "outputs": [],
   "source": [
    "import math\n",
    "# 梯度计算函数\n",
    "def gradient(w, b, x, multi_label):\n",
    "    gradient_w = np.zeros([7, len(x[0])])\n",
    "    gradient_b = np.zeros([7, 1])\n",
    "    for i in range(len(x)):\n",
    "        J = softmax(w, b, x[i])\n",
    "        for j in range(7):\n",
    "            gradient_w[j] += x[i] * (multi_label[i,j] - J[j])\n",
    "            gradient_b[j] += multi_label[i,j] - J[j] \n",
    "    return gradient_w/len(x), gradient_b/len(x)"
   ]
  },
  {
   "cell_type": "code",
   "execution_count": 13,
   "metadata": {},
   "outputs": [],
   "source": [
    "import time\n",
    "# logistics回归函数\n",
    "def logistics_classification(w, b, ita, delta, maxiter, data, label):\n",
    "    iteration = 0\n",
    "    w_ = w\n",
    "    b_ = b\n",
    "    time_start = time.time()\n",
    "    while(True):\n",
    "        gradient_w, gradient_b = gradient(w_, b_, data, label)\n",
    "        w_ += ita * gradient_w\n",
    "        b_ += ita * gradient_b\n",
    "#         if iteration%100 == 0:\n",
    "#             print(\"iteration: %d ,w = \" %iteration)\n",
    "#             print(w_)\n",
    "        iteration += 1\n",
    "        if np.linalg.norm(gradient_w) < delta or iteration >= maxiter:\n",
    "            break\n",
    "    time_end = time.time()\n",
    "    print('%s  %f s' % (\"训练耗时为\", (time_end - time_start)))\n",
    "    return w_, b_"
   ]
  },
  {
   "cell_type": "code",
   "execution_count": 14,
   "metadata": {
    "scrolled": false
   },
   "outputs": [
    {
     "name": "stdout",
     "output_type": "stream",
     "text": [
      "训练耗时为  31.593090 s\n"
     ]
    }
   ],
   "source": [
    "# 对原数据进行logistics回归分类\n",
    "w0 = np.zeros([7, len(white_data[0])])\n",
    "b0 = np.zeros([7, 1])\n",
    "ita = 1e-5\n",
    "delta = 0.05\n",
    "maxiter = 1000\n",
    "w0, b0 = logistics_classification(w0, b0, ita, delta, maxiter, white_data, multi_white_label)"
   ]
  },
  {
   "cell_type": "code",
   "execution_count": 15,
   "metadata": {},
   "outputs": [],
   "source": [
    "# 5重交叉验证\n",
    "from sklearn.model_selection import KFold\n",
    "\n",
    "kf = KFold(n_splits=5)"
   ]
  },
  {
   "cell_type": "code",
   "execution_count": 16,
   "metadata": {
    "scrolled": true
   },
   "outputs": [
    {
     "name": "stdout",
     "output_type": "stream",
     "text": [
      "训练耗时为  366.305506 s\n",
      "\u001b[1;31;47m   Ford1:acc = 0.482653 \u001b[0m \n",
      "\n",
      "训练耗时为  364.589059 s\n",
      "\u001b[1;31;47m   Ford2:acc = 0.504082 \u001b[0m \n",
      "\n",
      "训练耗时为  367.381823 s\n",
      "\u001b[1;31;47m   Ford3:acc = 0.524490 \u001b[0m \n",
      "\n",
      "训练耗时为  366.972020 s\n",
      "\u001b[1;31;47m   Ford4:acc = 0.542390 \u001b[0m \n",
      "\n",
      "训练耗时为  365.499138 s\n",
      "\u001b[1;31;47m   Ford5:acc = 0.530133 \u001b[0m \n",
      "\n"
     ]
    }
   ],
   "source": [
    "# 对降维后的数据进行logistic回归分类\n",
    "# 使用交叉验证，记录每次学习得到的w和b\n",
    "\n",
    "w_stack = []\n",
    "b_stack = []\n",
    "acc_stack = []\n",
    "ford = 1\n",
    "for X_train_i,X_test_i in kf.split(white_data_lda_norm):\n",
    "    w = np.ones([7, len(white_data_lda[0])])\n",
    "    b = np.ones([7, 1])\n",
    "    ita = 0.5\n",
    "    delta = 1e-3\n",
    "    maxiter = 1000\n",
    "    w, b = logistics_classification(w, b, ita, delta, maxiter, white_data_lda_norm[X_train_i], multi_white_label[X_train_i])\n",
    "    \n",
    "    acc = 0\n",
    "    predict = np.zeros(len(X_test_i))\n",
    "    for i in range(len(X_test_i)):\n",
    "        predict[i] = np.argmax(softmax(w, b, white_data_lda_norm[X_test_i][i])) + 3\n",
    "    acc = np.sum(predict==white_label[X_test_i])/len(X_test_i)\n",
    "    print(\"\\033[1;31;47m   Ford%d:acc = %f \\033[0m \\n\" %(ford, acc))\n",
    "    w_stack.append(w)\n",
    "    b_stack.append(b)\n",
    "    acc_stack.append(acc)\n",
    "    ford += 1"
   ]
  },
  {
   "cell_type": "code",
   "execution_count": 17,
   "metadata": {},
   "outputs": [
    {
     "name": "stdout",
     "output_type": "stream",
     "text": [
      "[0.4826530612244898, 0.5040816326530613, 0.5244897959183673, 0.5423901940755873, 0.5301327885597549]\n"
     ]
    }
   ],
   "source": [
    "print(acc_stack)"
   ]
  },
  {
   "cell_type": "code",
   "execution_count": 18,
   "metadata": {},
   "outputs": [],
   "source": [
    "def sigmoid(a):\n",
    "    return 1 / (1 + np.exp(-a))"
   ]
  },
  {
   "cell_type": "code",
   "execution_count": 20,
   "metadata": {},
   "outputs": [],
   "source": [
    "# 展示分类器\n",
    "if len(white_data_lda_norm[0]) == 2:\n",
    "    x = np.array([-6,3])\n",
    "    print(w)\n",
    "    print(b)\n",
    "    for i in range(len(b)):\n",
    "        plt.plot(x,  -x * w[i,1]/w[i,0]-b[i])\n",
    "\n",
    "    for i, c, a in zip(classname, color, alpha):\n",
    "        plt.scatter(white_data_lda_norm[np.where(white_label==i), 0], white_data_lda_norm[np.where(white_label==i), 1], c=c, alpha=a)    \n",
    "\n",
    "    plt.show()"
   ]
  },
  {
   "cell_type": "code",
   "execution_count": 21,
   "metadata": {},
   "outputs": [],
   "source": [
    "# 观察分类器在测试集上的表现"
   ]
  },
  {
   "cell_type": "code",
   "execution_count": 22,
   "metadata": {},
   "outputs": [
    {
     "name": "stdout",
     "output_type": "stream",
     "text": [
      "降维前总精度 = 0.448755\n"
     ]
    }
   ],
   "source": [
    "# 降维前\n",
    "predict0 = np.zeros(len(white_label))\n",
    "for i in range(len(white_label)):\n",
    "    predict0[i] = np.argmax(softmax(w0, b0, white_data[i])) + 3\n",
    "acc0 = np.sum(predict0==white_label)/len(white_label)\n",
    "print(\"降维前总精度 = %f\" %acc0)"
   ]
  },
  {
   "cell_type": "code",
   "execution_count": 23,
   "metadata": {},
   "outputs": [],
   "source": [
    "# 记录分类结果\n",
    "import csv\n",
    "with open(\"whitewine_prediction.csv\",\"w\", newline=\"\") as csvfile: \n",
    "    writer = csv.writer(csvfile)\n",
    "    writer.writerow([\"index\",\"label\"])\n",
    "    for i in range(len(predict0)):\n",
    "        writer.writerow([i,int(predict0[i])])"
   ]
  },
  {
   "cell_type": "code",
   "execution_count": 24,
   "metadata": {},
   "outputs": [
    {
     "name": "stdout",
     "output_type": "stream",
     "text": [
      "降维后总精度 = 0.537158\n"
     ]
    }
   ],
   "source": [
    "# 降维后\n",
    "from numpy import *\n",
    "w = np.array(w_stack).mean(0)\n",
    "b = np.array(b_stack).mean(0)\n",
    "predict = np.zeros(len(white_label))\n",
    "for i in range(len(white_label)):\n",
    "    predict[i] = np.argmax(softmax(w, b, white_data_lda_norm[i])) + 3\n",
    "acc = np.sum(predict==white_label)/len(white_label)\n",
    "print(\"降维后总精度 = %f\" %acc)"
   ]
  },
  {
   "cell_type": "code",
   "execution_count": 25,
   "metadata": {},
   "outputs": [],
   "source": [
    "# 记录分类结果\n",
    "import csv\n",
    "with open(\"whitewine_lda_prediction.csv\",\"w\", newline=\"\") as csvfile: \n",
    "    writer = csv.writer(csvfile)\n",
    "    writer.writerow([\"index\",\"label\"])\n",
    "    for i in range(len(predict)):\n",
    "        writer.writerow([i,int(predict[i])])"
   ]
  },
  {
   "cell_type": "code",
   "execution_count": 26,
   "metadata": {},
   "outputs": [
    {
     "name": "stdout",
     "output_type": "stream",
     "text": [
      "[  20.  163. 1457. 2198.  880.  175.    5.]\n",
      "[1.000e+00 4.000e+00 7.810e+02 1.667e+03 1.780e+02 0.000e+00 0.000e+00]\n",
      "[0.05       0.02453988 0.53603294 0.75841674 0.20227273 0.\n",
      " 0.        ]\n"
     ]
    }
   ],
   "source": [
    "# 逐类分类\n",
    "count = np.zeros(7)\n",
    "acc = np.zeros(7)\n",
    "for i in range(len(predict)):\n",
    "    if white_label[i] == 3.0:\n",
    "        count[0] += 1\n",
    "        if predict[i] == white_label[i]:\n",
    "            acc[0] += 1\n",
    "    if white_label[i] == 4.0:\n",
    "        count[1] += 1\n",
    "        if predict[i] == white_label[i]:\n",
    "            acc[1] += 1\n",
    "    if white_label[i] == 5.0:\n",
    "        count[2] += 1\n",
    "        if predict[i] == white_label[i]:\n",
    "            acc[2] += 1\n",
    "    if white_label[i] == 6.0:\n",
    "        count[3] += 1\n",
    "        if predict[i] == white_label[i]:\n",
    "            acc[3] += 1\n",
    "    if white_label[i] == 7.0:\n",
    "        count[4] += 1\n",
    "        if predict[i] == white_label[i]:\n",
    "            acc[4] += 1\n",
    "    if white_label[i] == 8.0:\n",
    "        count[5] += 1\n",
    "        if predict[i] == white_label[i]:\n",
    "            acc[5] += 1\n",
    "    if white_label[i] == 9.0:\n",
    "        count[6] += 1\n",
    "        if predict[i] == white_label[i]:\n",
    "            acc[6] += 1\n",
    "print(count)\n",
    "print(acc)\n",
    "print(acc/count)"
   ]
  },
  {
   "cell_type": "code",
   "execution_count": 27,
   "metadata": {},
   "outputs": [
    {
     "name": "stdout",
     "output_type": "stream",
     "text": [
      "163\n",
      "0.024539877300613498\n"
     ]
    }
   ],
   "source": [
    "# 统计某一类的具体精度\n",
    "count = 0\n",
    "acc = 0\n",
    "for i in range(len(predict)):\n",
    "    if white_label[i] == 4.0:\n",
    "        count += 1\n",
    "        if predict[i] == white_label[i]:\n",
    "            acc += 1\n",
    "print(count)\n",
    "print(acc/count)"
   ]
  },
  {
   "cell_type": "code",
   "execution_count": 28,
   "metadata": {},
   "outputs": [
    {
     "name": "stdout",
     "output_type": "stream",
     "text": [
      "0.6547570436913026\n",
      "0.4385463454471213\n",
      "0.3399346672111066\n",
      "0.47652102899142507\n",
      "0.4405879951000408\n",
      "0.4934667211106574\n"
     ]
    }
   ],
   "source": [
    "# 逐分类器分类\n",
    "for k in range(6):\n",
    "    predicts = sigmoid(np.dot(white_data_lda_norm, w[k]) + b[k])\n",
    "    theta = 0.5\n",
    "    predict = [1 if i > theta else 0 for i in predicts]\n",
    "    print(np.sum(predict == multi_white_label[:, k])/len(predict))"
   ]
  },
  {
   "cell_type": "code",
   "execution_count": null,
   "metadata": {},
   "outputs": [],
   "source": []
  }
 ],
 "metadata": {
  "kernelspec": {
   "display_name": "MindSpore(1.5.0)",
   "language": "python",
   "name": "mindspore"
  },
  "language_info": {
   "codemirror_mode": {
    "name": "ipython",
    "version": 3
   },
   "file_extension": ".py",
   "mimetype": "text/x-python",
   "name": "python",
   "nbconvert_exporter": "python",
   "pygments_lexer": "ipython3",
   "version": "3.7.5"
  }
 },
 "nbformat": 4,
 "nbformat_minor": 4
}
