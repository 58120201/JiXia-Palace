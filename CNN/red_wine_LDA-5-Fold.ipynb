{
 "cells": [
  {
   "cell_type": "code",
   "execution_count": 1,
   "metadata": {},
   "outputs": [],
   "source": [
    "import os\n",
    "import csv\n",
    "import re\n",
    "import pandas as pd\n",
    "import numpy as np"
   ]
  },
  {
   "cell_type": "code",
   "execution_count": 2,
   "metadata": {},
   "outputs": [],
   "source": [
    "# 载入数据,分离数据集与标签\n",
    "red_dataset = pd.read_csv(r'data/winequality-red.csv', sep='/')\n",
    "red_dataset = np.array(red_dataset['fixed acidity;\"volatile acidity\";\"citric acid\";\"residual sugar\";\"chlorides\";' \\\n",
    "                               '\"free sulfur dioxide\";\"total sulfur dioxide\";\"density\";\"pH\";\"sulphates\";\"alcohol\"' \\\n",
    "                               ';\"quality\"'].str.split(';', expand=True).astype(float))\n",
    "red_label = red_dataset[:,11]\n",
    "red_data = red_dataset[:,:11]"
   ]
  },
  {
   "cell_type": "code",
   "execution_count": 3,
   "metadata": {},
   "outputs": [
    {
     "name": "stdout",
     "output_type": "stream",
     "text": [
      "{5.0: 681, 6.0: 638, 7.0: 199, 4.0: 53, 8.0: 18, 3.0: 10}\n",
      "[3. 4. 5. 6. 7. 8.]\n",
      "[[0. 0. 1. 0. 0. 0.]\n",
      " [0. 0. 1. 0. 0. 0.]\n",
      " [0. 0. 1. 0. 0. 0.]\n",
      " ...\n",
      " [0. 0. 0. 1. 0. 0.]\n",
      " [0. 0. 1. 0. 0. 0.]\n",
      " [0. 0. 0. 1. 0. 0.]]\n"
     ]
    }
   ],
   "source": [
    "from collections import Counter\n",
    "# 已知共有6类\n",
    "classes = dict(Counter(red_label))\n",
    "print(classes)\n",
    "\n",
    "# 扩展标签\n",
    "classname = np.unique(red_label)\n",
    "print(classname)\n",
    "multi_red_label = np.zeros([len(red_label),len(classname)])\n",
    "for i in range(len(classname)):\n",
    "    multi_red_label[np.where(red_label==classname[i]),i] = 1\n",
    "print(multi_red_label)"
   ]
  },
  {
   "cell_type": "code",
   "execution_count": 4,
   "metadata": {},
   "outputs": [
    {
     "name": "stdout",
     "output_type": "stream",
     "text": [
      "[[ 8.36        0.8845      0.171       2.635       0.1225     11.\n",
      "  24.9         0.997464    3.398       0.57        9.955     ]\n",
      " [ 7.77924528  0.69396226  0.17415094  2.69433962  0.09067925 12.26415094\n",
      "  36.24528302  0.99654245  3.38150943  0.59641509 10.26509434]\n",
      " [ 8.16725404  0.57704112  0.24368576  2.52885463  0.09273568 16.98384728\n",
      "  56.51395007  0.99710363  3.3049486   0.62096916  9.89970631]\n",
      " [ 8.34717868  0.49748433  0.27382445  2.47719436  0.08495611 15.71159875\n",
      "  40.86990596  0.99661506  3.3180721   0.67532915 10.62951933]\n",
      " [ 8.87236181  0.4039196   0.37517588  2.72060302  0.07658794 14.04522613\n",
      "  35.0201005   0.99610427  3.29075377  0.74125628 11.4659129 ]\n",
      " [ 8.56666667  0.42333333  0.39111111  2.57777778  0.06844444 13.27777778\n",
      "  33.44444444  0.99521222  3.26722222  0.76777778 12.09444444]]\n"
     ]
    }
   ],
   "source": [
    "# 类平均向量mc\n",
    "mc = np.zeros([6,len(red_data[0])])\n",
    "mc_num = np.zeros([6,1])\n",
    "for i in range(len(red_label)):\n",
    "    if red_label[i] == 3.0:\n",
    "        mc[0] += red_data[i]\n",
    "        mc_num[0] += 1\n",
    "        continue\n",
    "    if red_label[i] == 4.0:\n",
    "        mc[1] += red_data[i]\n",
    "        mc_num[1] += 1\n",
    "        continue\n",
    "    if red_label[i] == 5.0:\n",
    "        mc[2] += red_data[i]\n",
    "        mc_num[2] += 1\n",
    "        continue\n",
    "    if red_label[i] == 6.0:\n",
    "        mc[3] += red_data[i]\n",
    "        mc_num[3] += 1\n",
    "        continue\n",
    "    if red_label[i] == 7.0:\n",
    "        mc[4] += red_data[i]\n",
    "        mc_num[4] += 1\n",
    "        continue\n",
    "    if red_label[i] == 8.0:\n",
    "        mc[5] += red_data[i]\n",
    "        mc_num[5] += 1\n",
    "        continue\n",
    "for i in range(len(mc_num)):\n",
    "    mc[i] /= mc_num[i]\n",
    "print(mc)"
   ]
  },
  {
   "cell_type": "code",
   "execution_count": 5,
   "metadata": {},
   "outputs": [
    {
     "name": "stdout",
     "output_type": "stream",
     "text": [
      "[ 8.31963727  0.52782051  0.27097561  2.5388055   0.08746654 15.87492183\n",
      " 46.46779237  0.99674668  3.3111132   0.65814884 10.42298311]\n"
     ]
    }
   ],
   "source": [
    "# 总平均向量m_red\n",
    "m_red = np.zeros(len(red_data[0]))\n",
    "for i in range(len(red_data[0])):\n",
    "    m_red[i] = red_data[:, i].mean()\n",
    "print(m_red)"
   ]
  },
  {
   "cell_type": "code",
   "execution_count": 6,
   "metadata": {},
   "outputs": [
    {
     "name": "stdout",
     "output_type": "stream",
     "text": [
      "(11, 11)\n",
      "(11, 11)\n"
     ]
    }
   ],
   "source": [
    "# 构建Sw,Sb，ST\n",
    "Sw = np.zeros([11,11])\n",
    "for i in range(6):\n",
    "    for j in range(len(red_label)):\n",
    "        if red_label[j] == i + 3.0:\n",
    "            temp = red_data[j] - mc[i]\n",
    "            Sw += np.outer(temp ,temp.T)\n",
    "# print(Sw)\n",
    "print(Sw.shape)\n",
    "Sb = np.zeros([11,11])\n",
    "for i in range(6):\n",
    "    temp = mc[i] - m_red[i]\n",
    "    Sb += mc_num[i] * np.outer(temp, temp.T)\n",
    "# print(Sb)\n",
    "print(Sb.shape)\n",
    "ST = Sw + Sb"
   ]
  },
  {
   "cell_type": "code",
   "execution_count": 7,
   "metadata": {},
   "outputs": [
    {
     "name": "stdout",
     "output_type": "stream",
     "text": [
      "[[-2.74552829e-04  1.28562299e-02 -2.50568540e-01  2.27669489e-02\n",
      "  -2.09164760e-01  5.99098685e-02 -7.04469466e-02  9.38155507e-01\n",
      "  -4.54682008e-02 -3.14779259e-02 -3.21851047e-02]\n",
      " [-7.92595834e-04  7.36531677e-02  2.38170779e-02  5.35051615e-01\n",
      "  -1.48959618e-01 -5.05020254e-01  6.54835603e-01  4.06150372e-02\n",
      "  -3.31841227e-03  1.19866487e-03  4.58008733e-03]\n",
      " [-1.09329735e-04  9.85638358e-02 -9.27002507e-03  8.29664621e-01\n",
      "   6.63070637e-02  2.35901397e-01 -4.87890329e-01 -6.10991220e-02\n",
      "  -5.71100167e-03 -8.97707898e-04  2.49966023e-03]\n",
      " [-3.60816726e-04  1.07744579e-03 -1.49084771e-02 -5.22253623e-03\n",
      "  -3.68368652e-02  1.81692269e-03 -1.11458633e-02  2.66870830e-02\n",
      "   3.01697911e-05  1.79201058e-01  9.82567791e-01]\n",
      " [-1.85298819e-03 -9.87557587e-01  1.75382971e-02  1.13132944e-01\n",
      "  -1.73152293e-03 -9.16431602e-02 -5.41276629e-02  1.69483614e-02\n",
      "   6.70572301e-04  3.33183511e-04  9.19099031e-04]\n",
      " [-1.80956741e-06 -7.99657238e-04  7.14413098e-03 -4.46515340e-03\n",
      "  -3.37232044e-03 -9.21745478e-04 -1.10287211e-03 -1.27207309e-02\n",
      "  -6.89668122e-01  7.12262615e-01 -1.29587722e-01]\n",
      " [ 2.85004545e-06  2.17454919e-03 -9.42579721e-03  7.32169443e-03\n",
      "   1.78972146e-02  8.14411083e-04 -1.28023120e-03  5.45883784e-02\n",
      "   7.22203322e-01  6.77829415e-01 -1.24579131e-01]\n",
      " [ 9.99989031e-01 -1.69260264e-03 -3.68874397e-03  6.19928478e-04\n",
      "   1.10387780e-03 -1.89773557e-03 -1.67225330e-04 -3.17759249e-04\n",
      "  -4.72317480e-05  5.76726607e-05  3.57506688e-04]]\n"
     ]
    }
   ],
   "source": [
    "# 求解投影方向\n",
    "w = np.linalg.eig(np.linalg.pinv(Sw)*Sb)[1][0:8]\n",
    "print(w)"
   ]
  },
  {
   "cell_type": "code",
   "execution_count": 8,
   "metadata": {},
   "outputs": [
    {
     "name": "stdout",
     "output_type": "stream",
     "text": [
      "[[ -1.24552872  17.83275899 -12.4017843  ...  -3.30963546   1.78018793\n",
      "    7.37634503]\n",
      " [ -2.72149467  32.75921386 -24.59690021 ...  -3.11483288   1.5628238\n",
      "    7.74457236]\n",
      " [ -2.42351976  29.1288192  -20.87516354 ...  -3.15228709   1.59138906\n",
      "    7.76558197]\n",
      " ...\n",
      " [ -0.67075801  12.88317354 -10.7663785  ...  -3.34346164   1.65280319\n",
      "    6.24187241]\n",
      " [ -0.75515235  13.83288997 -12.24856274 ...  -3.37774123   1.82916367\n",
      "    5.83484068]\n",
      " [ -1.5229006   20.43856174 -13.28167166 ...  -3.38212346   1.56431641\n",
      "    5.96229296]]\n"
     ]
    }
   ],
   "source": [
    "# LDA降维与可视化\n",
    "import matplotlib.pyplot as plt\n",
    "red_data_lda = np.dot(red_data, w.T)\n",
    "print(red_data_lda)\n",
    "\n",
    "\n",
    "if len(red_data_lda[0]) == 2:\n",
    "    color = ['y', 'gold', 'sandybrown', 'peru', 'red', 'darkred']\n",
    "    alpha = [0.2, 0.2, 0.4, 0.4, 0.6, 1]\n",
    "    for i, c, a in zip(classname, color, alpha):\n",
    "        plt.scatter(red_data_lda[np.where(red_label==i), 0], red_data_lda[np.where(red_label==i), 1], c=c, alpha=a)\n",
    "    plt.show()"
   ]
  },
  {
   "cell_type": "code",
   "execution_count": 9,
   "metadata": {},
   "outputs": [],
   "source": [
    "# 朴素数据归一化\n",
    "s = np.std(red_data_lda, axis=0)\n",
    "m_red_norm = np.zeros(len(red_data_lda[0]))\n",
    "for i in range(len(red_data_lda[0])):\n",
    "    m_red_norm[i] = red_data_lda[:, i].mean(0)\n",
    "red_data_lda_norm = (red_data_lda - m_red_norm)/s\n",
    "\n",
    "if len(red_data_lda_norm[0]) == 2:\n",
    "    color = ['y', 'gold', 'sandybrown', 'peru', 'red', 'darkred']\n",
    "    alpha = [0.2, 0.2, 0.4, 0.4, 0.6, 1]\n",
    "    for i, c, a in zip(classname, color, alpha):\n",
    "        plt.scatter(red_data_lda_norm[np.where(red_label==i), 0], red_data_lda_norm[np.where(red_label==i), 1], c=c, alpha=a)\n",
    "    plt.show()"
   ]
  },
  {
   "cell_type": "code",
   "execution_count": 10,
   "metadata": {},
   "outputs": [],
   "source": [
    "# softmax判断函数\n",
    "def softmax(w, b, x):\n",
    "    s = np.exp(np.dot(w, x.reshape(x.shape[0],1)) + b)\n",
    "    return s/s.sum()"
   ]
  },
  {
   "cell_type": "code",
   "execution_count": 11,
   "metadata": {},
   "outputs": [],
   "source": [
    "import math\n",
    "# 梯度计算函数\n",
    "def gradient(w, b, x, multi_label):\n",
    "    gradient_w = np.zeros([6, len(x[0])])\n",
    "    gradient_b = np.zeros([6, 1])\n",
    "    for i in range(len(x)):\n",
    "        J = softmax(w, b, x[i])\n",
    "        for j in range(6):\n",
    "            gradient_w[j] += x[i] * (multi_label[i,j] - J[j])\n",
    "            gradient_b[j] += multi_label[i,j] - J[j] \n",
    "    return gradient_w/len(x), gradient_b/len(x)"
   ]
  },
  {
   "cell_type": "code",
   "execution_count": 12,
   "metadata": {},
   "outputs": [],
   "source": [
    "import time\n",
    "# logistics回归函数\n",
    "def logistics_classification(w, b, ita, delta, maxiter, data, label):\n",
    "    iteration = 0\n",
    "    w_ = w\n",
    "    b_ = b\n",
    "    time_start = time.time()\n",
    "    while(True):\n",
    "        gradient_w, gradient_b = gradient(w_, b_, data, label)\n",
    "        w_ += ita * gradient_w\n",
    "        b_ += ita * gradient_b\n",
    "#         if iteration%100 == 0:\n",
    "#             print(\"iteration: %d ,w = \" %iteration)\n",
    "#             print(w_)\n",
    "        iteration += 1\n",
    "        if np.linalg.norm(gradient_w) < delta or iteration >= maxiter:\n",
    "            break\n",
    "    time_end = time.time()\n",
    "    print('%s  %f s' % (\"训练耗时为\", (time_end - time_start)))\n",
    "    return w_, b_"
   ]
  },
  {
   "cell_type": "code",
   "execution_count": 13,
   "metadata": {
    "scrolled": false
   },
   "outputs": [
    {
     "name": "stdout",
     "output_type": "stream",
     "text": [
      "训练耗时为  85.372345 s\n",
      "[[0.96881706 1.0003299  0.99841089 0.9927277  0.99992333 0.98812962\n",
      "  0.95352911 0.99635817 0.98842257 0.99723457 0.95711454]\n",
      " [0.95585568 1.00369408 0.996335   1.00150086 0.99984141 0.97892488\n",
      "  1.01598183 0.99672099 0.99120332 0.99613135 0.95942438]\n",
      " [1.06831108 1.02543168 0.99029923 0.99969788 1.00289924 0.99338714\n",
      "  1.03550471 1.01477415 1.0493356  0.99299416 0.98477641]\n",
      " [1.0345603  0.99227556 1.00290618 0.99735658 0.99966282 1.02368132\n",
      "  1.01195796 1.00348853 1.01228992 1.0087482  1.08491293]\n",
      " [1.01538783 0.98226572 1.01202149 1.01941252 0.99832471 1.02147878\n",
      "  0.99827805 0.99405589 0.97719096 1.00695546 1.0534979 ]\n",
      " [0.95706804 0.99600306 1.0000272  0.98930447 0.9993485  0.99439825\n",
      "  0.98474834 0.99460227 0.98155763 0.99793626 0.96027385]]\n",
      "[[0.99633936]\n",
      " [0.99671342]\n",
      " [1.014722  ]\n",
      " [1.00352536]\n",
      " [0.99410129]\n",
      " [0.99459857]]\n"
     ]
    }
   ],
   "source": [
    "# 对原数据进行logistics回归分类\n",
    "w0 = np.ones([6, len(red_data[0])])\n",
    "b0 = np.ones([6, 1])\n",
    "ita = 1e-3\n",
    "delta = 0.05\n",
    "maxiter = 1000\n",
    "w0, b0 = logistics_classification(w0, b0, ita, delta, maxiter, red_data, multi_red_label)\n",
    "print(w0)\n",
    "print(b0)"
   ]
  },
  {
   "cell_type": "code",
   "execution_count": 14,
   "metadata": {},
   "outputs": [],
   "source": [
    "# 5重交叉验证\n",
    "from sklearn.model_selection import KFold\n",
    "\n",
    "kf = KFold(n_splits=5)"
   ]
  },
  {
   "cell_type": "code",
   "execution_count": 15,
   "metadata": {
    "scrolled": true
   },
   "outputs": [
    {
     "name": "stdout",
     "output_type": "stream",
     "text": [
      "训练耗时为  103.753472 s\n",
      "\u001b[1;31;47m   Ford1:acc = 0.553125 \u001b[0m \n",
      "\n",
      "训练耗时为  104.285598 s\n",
      "\u001b[1;31;47m   Ford2:acc = 0.534375 \u001b[0m \n",
      "\n",
      "训练耗时为  103.584154 s\n",
      "\u001b[1;31;47m   Ford3:acc = 0.584375 \u001b[0m \n",
      "\n",
      "训练耗时为  103.419547 s\n",
      "\u001b[1;31;47m   Ford4:acc = 0.534375 \u001b[0m \n",
      "\n",
      "训练耗时为  103.364528 s\n",
      "\u001b[1;31;47m   Ford5:acc = 0.608150 \u001b[0m \n",
      "\n"
     ]
    }
   ],
   "source": [
    "# 对降维后的数据进行logistic回归分类\n",
    "# 使用交叉验证，记录每次学习得到的w和b\n",
    "\n",
    "w_stack = []\n",
    "b_stack = []\n",
    "acc_stack = []\n",
    "ford = 1\n",
    "for X_train_i,X_test_i in kf.split(red_data_lda_norm):\n",
    "    w = np.ones([6, len(red_data_lda[0])])\n",
    "    b = np.ones([6, 1])\n",
    "    ita = 0.5\n",
    "    delta = 1e-3\n",
    "    maxiter = 1000\n",
    "    w, b = logistics_classification(w, b, ita, delta, maxiter, red_data_lda_norm[X_train_i], multi_red_label[X_train_i])\n",
    "    \n",
    "    acc = 0\n",
    "    predict = np.zeros(len(X_test_i))\n",
    "    for i in range(len(X_test_i)):\n",
    "        predict[i] = np.argmax(softmax(w, b, red_data_lda_norm[X_test_i][i])) + 3\n",
    "    acc = np.sum(predict==red_label[X_test_i])/len(X_test_i)\n",
    "    print(\"\\033[1;31;47m   Ford%d:acc = %f \\033[0m \\n\" %(ford, acc))\n",
    "    w_stack.append(w)\n",
    "    b_stack.append(b)\n",
    "    acc_stack.append(acc)\n",
    "    ford += 1"
   ]
  },
  {
   "cell_type": "code",
   "execution_count": 16,
   "metadata": {},
   "outputs": [
    {
     "name": "stdout",
     "output_type": "stream",
     "text": [
      "[0.553125, 0.534375, 0.584375, 0.534375, 0.6081504702194357]\n"
     ]
    }
   ],
   "source": [
    "print(acc_stack)"
   ]
  },
  {
   "cell_type": "code",
   "execution_count": 17,
   "metadata": {},
   "outputs": [],
   "source": [
    "def sigmoid(a):\n",
    "    return 1 / (1 + np.exp(-a))"
   ]
  },
  {
   "cell_type": "code",
   "execution_count": 18,
   "metadata": {},
   "outputs": [],
   "source": [
    "# 观察分类器在测试集上的表现"
   ]
  },
  {
   "cell_type": "code",
   "execution_count": 19,
   "metadata": {},
   "outputs": [
    {
     "name": "stdout",
     "output_type": "stream",
     "text": [
      "降维前总精度 = 0.509694\n"
     ]
    }
   ],
   "source": [
    "# 降维前\n",
    "predict0 = np.zeros(len(red_label))\n",
    "for i in range(len(red_label)):\n",
    "    predict0[i] = np.argmax(softmax(w0, b0, red_data[i])) + 3\n",
    "acc0 = np.sum(predict0==red_label)/len(red_label)\n",
    "print(\"降维前总精度 = %f\" %acc0)"
   ]
  },
  {
   "cell_type": "code",
   "execution_count": 20,
   "metadata": {},
   "outputs": [],
   "source": [
    "# 记录分类结果\n",
    "import csv\n",
    "with open(\"redwine_prediction.csv\",\"w\", newline=\"\") as csvfile: \n",
    "    writer = csv.writer(csvfile)\n",
    "    writer.writerow([\"index\",\"label\"])\n",
    "    for i in range(len(predict0)):\n",
    "        writer.writerow([i,int(predict0[i])])"
   ]
  },
  {
   "cell_type": "code",
   "execution_count": 21,
   "metadata": {},
   "outputs": [
    {
     "name": "stdout",
     "output_type": "stream",
     "text": [
      "降维后总精度 = 0.580363\n"
     ]
    }
   ],
   "source": [
    "# 降维后\n",
    "from numpy import *\n",
    "w = np.array(w_stack).mean(0)\n",
    "b = np.array(b_stack).mean(0)\n",
    "predict = np.zeros(len(red_label))\n",
    "for i in range(len(red_label)):\n",
    "    predict[i] = np.argmax(softmax(w, b, red_data_lda_norm[i])) + 3\n",
    "acc = np.sum(predict==red_label)/len(red_label)\n",
    "print(\"降维后总精度 = %f\" %acc)"
   ]
  },
  {
   "cell_type": "code",
   "execution_count": 22,
   "metadata": {},
   "outputs": [],
   "source": [
    "# 记录分类结果\n",
    "import csv\n",
    "with open(\"redwine_lda_prediction.csv\",\"w\", newline=\"\") as csvfile: \n",
    "    writer = csv.writer(csvfile)\n",
    "    writer.writerow([\"index\",\"label\"])\n",
    "    for i in range(len(predict)):\n",
    "        writer.writerow([i,int(predict[i])])"
   ]
  },
  {
   "cell_type": "code",
   "execution_count": 23,
   "metadata": {},
   "outputs": [
    {
     "name": "stdout",
     "output_type": "stream",
     "text": [
      "[ 10.  53. 681. 638. 199.  18.]\n",
      "[  0.   0. 502. 386.  40.   0.]\n",
      "[0.         0.         0.73715125 0.60501567 0.20100503 0.        ]\n"
     ]
    }
   ],
   "source": [
    "# 逐类分类\n",
    "count = np.zeros(6)\n",
    "acc = np.zeros(6)\n",
    "for i in range(len(predict)):\n",
    "    if red_label[i] == 3.0:\n",
    "        count[0] += 1\n",
    "        if predict[i] == red_label[i]:\n",
    "            acc[0] += 1\n",
    "    if red_label[i] == 4.0:\n",
    "        count[1] += 1\n",
    "        if predict[i] == red_label[i]:\n",
    "            acc[1] += 1\n",
    "    if red_label[i] == 5.0:\n",
    "        count[2] += 1\n",
    "        if predict[i] == red_label[i]:\n",
    "            acc[2] += 1\n",
    "    if red_label[i] == 6.0:\n",
    "        count[3] += 1\n",
    "        if predict[i] == red_label[i]:\n",
    "            acc[3] += 1\n",
    "    if red_label[i] == 7.0:\n",
    "        count[4] += 1\n",
    "        if predict[i] == red_label[i]:\n",
    "            acc[4] += 1\n",
    "    if red_label[i] == 8.0:\n",
    "        count[5] += 1\n",
    "        if predict[i] == red_label[i]:\n",
    "            acc[5] += 1\n",
    "print(count)\n",
    "print(acc)\n",
    "print(acc/count)"
   ]
  },
  {
   "cell_type": "code",
   "execution_count": 24,
   "metadata": {},
   "outputs": [
    {
     "name": "stdout",
     "output_type": "stream",
     "text": [
      "18\n",
      "0.0\n"
     ]
    }
   ],
   "source": [
    "# 统计某一类的具体精度\n",
    "count = 0\n",
    "acc = 0\n",
    "for i in range(len(predict)):\n",
    "    if red_label[i] == 8.0:\n",
    "        count += 1\n",
    "        if predict[i] == red_label[i]:\n",
    "            acc += 1\n",
    "print(count)\n",
    "print(acc/count)"
   ]
  },
  {
   "cell_type": "code",
   "execution_count": 25,
   "metadata": {},
   "outputs": [
    {
     "name": "stdout",
     "output_type": "stream",
     "text": [
      "0.5797373358348968\n",
      "0.383364602876798\n",
      "0.41776110068792993\n",
      "0.474671669793621\n",
      "0.40212632895559725\n",
      "0.6235146966854284\n"
     ]
    }
   ],
   "source": [
    "# 逐分类器分类\n",
    "for k in range(6):\n",
    "    predicts = sigmoid(np.dot(red_data_lda_norm, w[k]) + b[k])\n",
    "    theta = 0.5\n",
    "    predict = [1 if i > theta else 0 for i in predicts]\n",
    "    print(np.sum(predict == multi_red_label[:, k])/len(predict))"
   ]
  },
  {
   "cell_type": "code",
   "execution_count": 26,
   "metadata": {},
   "outputs": [
    {
     "name": "stdout",
     "output_type": "stream",
     "text": [
      "[0.99284139 0.95953843 0.99468368 ... 0.27632768 0.10903502 0.97629388]\n",
      "0.4446529080675422\n"
     ]
    }
   ],
   "source": [
    "# 单分类器测试\n",
    "k = 5 # k = 评分\n",
    "k -= 3\n",
    "predicts = sigmoid(np.dot(red_data_lda, w[k]) + b[k])\n",
    "print(predicts)\n",
    "theta = 0.5\n",
    "predict = [1 if i > theta else 0 for i in predicts]\n",
    "print(np.sum(predict == multi_red_label[:, k])/len(predict))"
   ]
  }
 ],
 "metadata": {
  "kernelspec": {
   "display_name": "MindSpore(1.5.0)",
   "language": "python",
   "name": "mindspore"
  },
  "language_info": {
   "codemirror_mode": {
    "name": "ipython",
    "version": 3
   },
   "file_extension": ".py",
   "mimetype": "text/x-python",
   "name": "python",
   "nbconvert_exporter": "python",
   "pygments_lexer": "ipython3",
   "version": "3.7.5"
  }
 },
 "nbformat": 4,
 "nbformat_minor": 4
}
