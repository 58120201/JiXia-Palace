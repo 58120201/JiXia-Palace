{
 "cells": [
  {
   "cell_type": "code",
   "execution_count": 1,
   "metadata": {},
   "outputs": [],
   "source": [
    "import os\n",
    "import csv\n",
    "import re\n",
    "import pandas as pd\n",
    "import numpy as np"
   ]
  },
  {
   "cell_type": "code",
   "execution_count": 2,
   "metadata": {},
   "outputs": [],
   "source": [
    "# 载入数据,分离数据集与标签\n",
    "red_dataset = pd.read_csv(r'data/winequality-red.csv', sep='/')\n",
    "red_dataset = np.array(red_dataset['fixed acidity;\"volatile acidity\";\"citric acid\";\"residual sugar\";\"chlorides\";' \\\n",
    "                               '\"free sulfur dioxide\";\"total sulfur dioxide\";\"density\";\"pH\";\"sulphates\";\"alcohol\"' \\\n",
    "                               ';\"quality\"'].str.split(';', expand=True).astype(float))\n",
    "red_label = red_dataset[:,11]\n",
    "red_data = red_dataset[:,:11]"
   ]
  },
  {
   "cell_type": "code",
   "execution_count": 3,
   "metadata": {},
   "outputs": [
    {
     "name": "stdout",
     "output_type": "stream",
     "text": [
      "{5.0: 681, 6.0: 638, 7.0: 199, 4.0: 53, 8.0: 18, 3.0: 10}\n",
      "[3. 4. 5. 6. 7. 8.]\n",
      "[[0. 0. 1. 0. 0. 0.]\n",
      " [0. 0. 1. 0. 0. 0.]\n",
      " [0. 0. 1. 0. 0. 0.]\n",
      " ...\n",
      " [0. 0. 0. 1. 0. 0.]\n",
      " [0. 0. 1. 0. 0. 0.]\n",
      " [0. 0. 0. 1. 0. 0.]]\n"
     ]
    }
   ],
   "source": [
    "from collections import Counter\n",
    "# 已知共有6类\n",
    "classes = dict(Counter(red_label))\n",
    "print(classes)\n",
    "\n",
    "# 扩展标签\n",
    "classname = np.unique(red_label)\n",
    "print(classname)\n",
    "multi_red_label = np.zeros([len(red_label),len(classname)])\n",
    "for i in range(len(classname)):\n",
    "    multi_red_label[np.where(red_label==classname[i]),i] = 1\n",
    "print(multi_red_label)"
   ]
  },
  {
   "cell_type": "code",
   "execution_count": 4,
   "metadata": {
    "scrolled": true
   },
   "outputs": [
    {
     "name": "stdout",
     "output_type": "stream",
     "text": [
      "[ 8.31963727  0.52782051  0.27097561  2.5388055   0.08746654 15.87492183\n",
      " 46.46779237  0.99674668  3.3111132   0.65814884 10.42298311]\n",
      "[[ 6.13247431e-03 -2.38994985e-02 -9.53135980e-01 -2.65092214e-01\n",
      "   9.81476468e-02 -7.93123729e-02 -1.11415873e-02 -6.49066070e-02\n",
      "  -1.62056112e-02  1.11894679e-02 -9.42137146e-04]\n",
      " [-3.84465551e-04 -2.00966661e-03  2.51315387e-02  7.27374987e-03\n",
      "  -4.11570558e-02 -6.89241790e-01 -4.64366208e-01  3.38841054e-01\n",
      "   4.28631866e-01 -9.15867655e-02 -7.18832280e-04]]\n"
     ]
    }
   ],
   "source": [
    "# 构建散布矩阵\n",
    "m_red = np.zeros(len(red_data[0]))\n",
    "for i in range(len(red_data[0])):\n",
    "    m_red[i] = red_data[:, i].mean(0)\n",
    "print(m_red)\n",
    "\n",
    "S = np.zeros([len(red_data[0]),len(red_data[0])])\n",
    "for i in red_data:\n",
    "    S += np.outer((i - m_red), (i - m_red).T)\n",
    "e = np.linalg.eig(S)[1][0:2]\n",
    "print(e)"
   ]
  },
  {
   "cell_type": "code",
   "execution_count": 5,
   "metadata": {
    "scrolled": true
   },
   "outputs": [
    {
     "name": "stdout",
     "output_type": "stream",
     "text": [
      "[[  0.93886562   9.23397486]\n",
      " [ -0.71837968 -15.88031709]\n",
      " [  0.26194497  -2.92329396]\n",
      " ...\n",
      " [ -0.7855452   -6.00941976]\n",
      " [ -0.9868744   -9.86867793]\n",
      " [ -0.60252621   0.65769494]]\n",
      "[[ 0.74759373  0.44421199]\n",
      " [-0.57202663 -0.76394264]\n",
      " [ 0.20857981 -0.14062874]\n",
      " ...\n",
      " [-0.62550876 -0.2890907 ]\n",
      " [-0.78582184 -0.47474518]\n",
      " [-0.4797756   0.03163924]]\n"
     ]
    }
   ],
   "source": [
    "# PCA降维与数据归一化\n",
    "\n",
    "red_data_pca = np.dot(red_data - m_red, e.T)\n",
    "print(red_data_pca)\n",
    "\n",
    "s = np.std(red_data_pca, axis=0)\n",
    "m_red_norm = np.zeros(len(red_data_pca[0]))\n",
    "for i in range(len(red_data_pca[0])):\n",
    "    m_red_norm[i] = red_data_pca[:, i].mean(0)\n",
    "red_data_pca_norm = (red_data_pca - m_red_norm)/s\n",
    "print(red_data_pca_norm)"
   ]
  },
  {
   "cell_type": "code",
   "execution_count": 6,
   "metadata": {},
   "outputs": [
    {
     "data": {
      "image/png": "[encoded data removed]",
      "text/plain": [
       "<Figure size 432x288 with 1 Axes>"
      ]
     },
     "metadata": {
      "needs_background": "light"
     },
     "output_type": "display_data"
    }
   ],
   "source": [
    "# 可视化\n",
    "import matplotlib.pyplot as plt\n",
    "if len(red_data_pca_norm[0])==2:\n",
    "    color = ['yellowgreen', 'y', 'gold', 'lightsalmon', 'red', 'darkred']\n",
    "    alpha = [0.25, 0.25, 0.5, 0.5, 1, 1]\n",
    "    for i, c, a in zip(classname, color, alpha):\n",
    "        plt.scatter(red_data_pca_norm[np.where(red_label==i), 0], red_data_pca_norm[np.where(red_label==i), 1], c=c, alpha=a)\n",
    "    plt.show()"
   ]
  },
  {
   "cell_type": "code",
   "execution_count": 7,
   "metadata": {},
   "outputs": [],
   "source": [
    "# softmax判断函数\n",
    "def softmax(w, b, x):\n",
    "    s = np.exp(np.dot(w, x.reshape(x.shape[0],1)) + b)\n",
    "    return s/s.sum()"
   ]
  },
  {
   "cell_type": "code",
   "execution_count": 8,
   "metadata": {},
   "outputs": [],
   "source": [
    "# 梯度计算函数\n",
    "def gradient(w, b, x, multi_label):\n",
    "    gradient_w = np.zeros([6, len(x[0])])\n",
    "    gradient_b = np.zeros([6, 1])\n",
    "    for i in range(len(x)):\n",
    "        J = softmax(w, b, x[i])\n",
    "        for j in range(6):\n",
    "            gradient_w[j] += x[i] * (multi_label[i,j] - J[j])\n",
    "            gradient_b[j] += multi_label[i,j] - J[j] \n",
    "    return gradient_w/len(x), gradient_b/len(x)"
   ]
  },
  {
   "cell_type": "code",
   "execution_count": 9,
   "metadata": {},
   "outputs": [],
   "source": [
    "import time\n",
    "# logistics回归函数\n",
    "def logistics_classification(w, b, ita, delta, maxiter, data, label):\n",
    "    iteration = 0\n",
    "    w_ = w\n",
    "    b_ = b\n",
    "    time_start = time.time()\n",
    "    while(True):\n",
    "        gradient_w, gradient_b = gradient(w_, b_, data, label)\n",
    "        w_ += ita * gradient_w\n",
    "        b_ += ita * gradient_b\n",
    "        if iteration%50 == 0:\n",
    "            print(\"iteration: %d ,w = \" %iteration)\n",
    "            print(w_)\n",
    "        iteration += 1\n",
    "        if np.linalg.norm(gradient_w) + np.linalg.norm(gradient_b)< delta or iteration >= maxiter:\n",
    "            break\n",
    "    time_end = time.time()\n",
    "    print('%s  %f s' % (\"训练耗时为\", (time_end - time_start)))\n",
    "    return w_, b_"
   ]
  },
  {
   "cell_type": "code",
   "execution_count": 10,
   "metadata": {
    "scrolled": true
   },
   "outputs": [
    {
     "name": "stdout",
     "output_type": "stream",
     "text": [
      "iteration: 0 ,w = \n",
      "[[0.98665676 0.99917561 0.99955907 0.99593345 0.99986188 0.97422973\n",
      "  0.9241109  0.99840114 0.99469399 0.99893873 0.98325094]\n",
      " [0.98871242 0.99935032 0.9996061  0.99666172 0.99988428 0.97760684\n",
      "  0.93456744 0.99866907 0.9956023  0.99910077 0.9860308 ]\n",
      " [1.02091755 1.00157787 1.00058621 1.00653883 1.00024918 1.0458745\n",
      "  1.16324161 1.00258533 1.00855696 1.00154774 1.02479034]\n",
      " [1.01943913 1.00110526 1.00064093 1.00565265 1.0001932  1.03623098\n",
      "  1.08562435 1.00231524 1.00772056 1.00159764 1.02504008]\n",
      " [0.99717584 0.99962299 1.00001529 0.99915452 0.99994954 0.99102147\n",
      "  0.96613717 0.99957844 0.99857691 0.9998256  0.99689801]\n",
      " [0.98709829 0.99916795 0.9995924  0.99605884 0.99986193 0.97503648\n",
      "  0.92631853 0.99845079 0.99484927 0.99898951 0.98398984]]\n",
      "iteration: 50 ,w = \n",
      "[[0.99249185 1.00069429 0.99942477 0.9983709  1.00004273 0.99394688\n",
      "  0.9652036  0.99913588 0.99740934 0.99922186 0.98873134]\n",
      " [0.9904626  1.00284906 0.99833472 1.00277116 1.00005253 0.97006687\n",
      "  0.93356828 1.00003239 1.0013205  0.99910773 0.99715432]\n",
      " [0.94582564 1.00703893 0.99322404 0.97957934 1.00050589 0.87676115\n",
      "  1.13706635 0.99588439 0.98510639 0.98859962 0.86594286]\n",
      " [1.04226492 0.99750998 1.00216022 1.00617836 1.00014869 1.13884943\n",
      "  1.14705006 1.00508928 1.017889   1.00686194 1.0810312 ]\n",
      " [1.03972932 0.99320774 1.00656467 1.01572888 0.99946826 1.01243495\n",
      "  0.81372861 1.00123131 1.00304291 1.00635849 1.07298474]\n",
      " [0.98922567 0.9987     1.00029158 0.99737136 0.9997819  1.00794072\n",
      "  1.0033831  0.99862675 0.99523185 0.99985036 0.99415553]]\n",
      "训练耗时为  9.771250 s\n",
      "[[0.98529675 1.00137409 0.99889002 0.99711716 1.00008883 0.99953422\n",
      "  0.97061436 0.99832798 0.99499239 0.99850802 0.9780048 ]\n",
      " [0.9963779  1.00652752 0.99723772 1.01098069 1.0002766  1.00784465\n",
      "  1.02907157 1.00192075 1.0087866  0.99952546 1.01352573]\n",
      " [0.99848257 1.01991264 0.98989453 0.98900319 1.00198982 0.90315773\n",
      "  1.33619499 1.00431042 1.01228997 0.985765   0.87341485]\n",
      " [0.99599455 0.98959133 1.00163542 0.98568886 0.99937489 1.0508316\n",
      "  0.82373381 0.9993011  0.99926269 1.00629071 1.04610117]\n",
      " [1.05156926 0.98557615 1.01192955 1.02395674 0.99876531 1.02892782\n",
      "  0.83753067 0.99964336 0.99674747 1.01073526 1.10876211]\n",
      " [0.97227898 0.99701828 1.00041277 0.99325336 0.99950453 1.00970398\n",
      "  1.0028546  0.99649639 0.98792088 0.99917556 0.98019134]]\n",
      "[[0.99831611]\n",
      " [1.00193268]\n",
      " [1.00421485]\n",
      " [0.99932544]\n",
      " [0.9997113 ]\n",
      " [0.99649963]]\n"
     ]
    }
   ],
   "source": [
    "# 对原数据进行logistics回归分类\n",
    "w0 = np.ones([6, len(red_data[0])])\n",
    "b0 = np.ones([6, 1])\n",
    "ita = 1e-2\n",
    "delta = 1e-3\n",
    "maxiter = 100\n",
    "w0, b0 = logistics_classification(w0, b0, ita, delta, maxiter, red_data, multi_red_label)\n",
    "print(w0)\n",
    "print(b0)"
   ]
  },
  {
   "cell_type": "code",
   "execution_count": 11,
   "metadata": {
    "scrolled": true
   },
   "outputs": [
    {
     "name": "stdout",
     "output_type": "stream",
     "text": [
      "iteration: 0 ,w = \n",
      "[[1.00515331 1.00605492]\n",
      " [1.01752595 1.01738819]\n",
      " [0.9121633  0.83315051]\n",
      " [1.04264392 1.07811239]\n",
      " [1.0194364  1.05894888]\n",
      " [1.00307711 1.00634512]]\n",
      "iteration: 50 ,w = \n",
      "[[ 1.0400571   1.05223914]\n",
      " [ 1.17490527  1.11407552]\n",
      " [ 1.6039213  -0.02233052]\n",
      " [ 0.80949593  1.09502065]\n",
      " [ 0.42119914  1.68970151]\n",
      " [ 0.95042126  1.0712937 ]]\n",
      "iteration: 100 ,w = \n",
      "[[ 1.09105222  1.12029486]\n",
      " [ 1.19570222  1.0569745 ]\n",
      " [ 1.73728769 -0.2067543 ]\n",
      " [ 0.84749519  0.99977076]\n",
      " [ 0.21893194  1.88550503]\n",
      " [ 0.90953075  1.14420915]]\n",
      "iteration: 150 ,w = \n",
      "[[ 1.13011545  1.17930241]\n",
      " [ 1.21237235  0.99411952]\n",
      " [ 1.7805407  -0.27677653]\n",
      " [ 0.86599835  0.95238538]\n",
      " [ 0.15066804  1.94693614]\n",
      " [ 0.86030512  1.20403307]]\n",
      "iteration: 200 ,w = \n",
      "[[ 1.1578434   1.22810271]\n",
      " [ 1.23568906  0.94212356]\n",
      " [ 1.79734171 -0.3113392 ]\n",
      " [ 0.87421462  0.92564932]\n",
      " [ 0.12677758  1.96061242]\n",
      " [ 0.80813363  1.25485118]]\n",
      "iteration: 250 ,w = \n",
      "[[ 1.17673956  1.26847534]\n",
      " [ 1.26128969  0.89848567]\n",
      " [ 1.80567771 -0.33241646]\n",
      " [ 0.87930202  0.9075283 ]\n",
      " [ 0.11981441  1.9575418 ]\n",
      " [ 0.75717661  1.30038537]]\n",
      "iteration: 300 ,w = \n",
      "[[ 1.18908475  1.30233431]\n",
      " [ 1.28659896  0.8607881 ]\n",
      " [ 1.81143085 -0.3478398 ]\n",
      " [ 0.88373934  0.89329804]\n",
      " [ 0.11970387  1.94886854]\n",
      " [ 0.70944222  1.3425508 ]]\n",
      "iteration: 350 ,w = \n",
      "[[ 1.19660319  1.33119707]\n",
      " [ 1.31059579  0.82758822]\n",
      " [ 1.81652667 -0.36061392]\n",
      " [ 0.88822543  0.88107398]\n",
      " [ 0.12246301  1.93864387]\n",
      " [ 0.66558592  1.38211078]]\n",
      "iteration: 400 ,w = \n",
      "[[ 1.20054387  1.35618805]\n",
      " [ 1.33295788  0.79799859]\n",
      " [ 1.82153834 -0.37192295]\n",
      " [ 0.89287964  0.87008634]\n",
      " [ 0.12644719  1.9283324 ]\n",
      " [ 0.62563309  1.41931758]]\n",
      "iteration: 450 ,w = \n",
      "[[ 1.20180846  1.37813095]\n",
      " [ 1.35364699  0.77142264]\n",
      " [ 1.82658384 -0.38224841]\n",
      " [ 0.89765359  0.86000533]\n",
      " [ 0.1309424   1.9184453 ]\n",
      " [ 0.58936472  1.45424419]]\n",
      "iteration: 500 ,w = \n",
      "[[ 1.20105488  1.39763397]\n",
      " [ 1.37273445  0.74742557]\n",
      " [ 1.83164028 -0.39179921]\n",
      " [ 0.90246548  0.85067559]\n",
      " [ 0.13561649  1.90914223]\n",
      " [ 0.55648843  1.48692185]]\n",
      "训练耗时为  49.210292 s\n",
      "[[ 1.20074466  1.40092251]\n",
      " [ 1.37600828  0.74335285]\n",
      " [ 1.83254736 -0.39344488]\n",
      " [ 0.90332963  0.84906884]\n",
      " [ 0.13646235  1.90753309]\n",
      " [ 0.55090771  1.4925676 ]]\n",
      "[[-2.44382131]\n",
      " [-0.56962869]\n",
      " [ 2.02428941]\n",
      " [ 1.99737945]\n",
      " [ 0.66267328]\n",
      " [-1.67089214]]\n"
     ]
    }
   ],
   "source": [
    "# 对降维且归一化后的数据进行logistic回归分类\n",
    "w = np.ones([6, len(red_data_pca_norm[0])])\n",
    "# w2[:, 0] = 1\n",
    "# w2[:, 1] = -1\n",
    "b = np.zeros([6, 1])\n",
    "ita = 1.5\n",
    "delta = 1e-3\n",
    "maxiter = 2000\n",
    "w, b = logistics_classification(w, b, ita, delta, maxiter, red_data_pca_norm, multi_red_label)\n",
    "print(w)\n",
    "print(b)"
   ]
  },
  {
   "cell_type": "code",
   "execution_count": 12,
   "metadata": {},
   "outputs": [],
   "source": [
    "def sigmoid(a):\n",
    "    return 1 / (1 + np.exp(-a))"
   ]
  },
  {
   "cell_type": "code",
   "execution_count": 13,
   "metadata": {},
   "outputs": [],
   "source": [
    "# # 展示分类器\n",
    "# x = np.array([-6,1])\n",
    "# print(w2)\n",
    "# print(b2)\n",
    "# for i in range(len(b2)):\n",
    "#     plt.plot(x,  -x * w2[i,1]/w2[i,0]-b2[i])\n",
    "    \n",
    "# for i, c, a in zip(classname, color, alpha):\n",
    "#     plt.scatter(red_data_pca_norm[np.where(red_label==i), 0], red_data_pca_norm[np.where(red_label==i), 1], c=c, alpha=a)\n",
    "    \n",
    "# plt.show()"
   ]
  },
  {
   "cell_type": "code",
   "execution_count": 14,
   "metadata": {},
   "outputs": [
    {
     "name": "stdout",
     "output_type": "stream",
     "text": [
      "0.8486554096310194\n",
      "1357\n"
     ]
    }
   ],
   "source": [
    "# 单分类器测试\n",
    "k = 3 # k = 评分\n",
    "k -= 3\n",
    "\n",
    "predicts = sigmoid(np.dot(red_data_pca_norm, w[k]) + b[k])\n",
    "theta = 0.5\n",
    "predict = [1 if i > theta else 0 for i in predicts]\n",
    "print(np.sum(predict == multi_red_label[:, k])/len(predict))\n",
    "print(np.sum(predict==multi_red_label[:,k]))"
   ]
  },
  {
   "cell_type": "code",
   "execution_count": 15,
   "metadata": {},
   "outputs": [],
   "source": [
    "# 观察分类器在测试集上的表现"
   ]
  },
  {
   "cell_type": "code",
   "execution_count": 16,
   "metadata": {},
   "outputs": [
    {
     "name": "stdout",
     "output_type": "stream",
     "text": [
      "降维前总精度 = 0.424640\n"
     ]
    }
   ],
   "source": [
    "# 降维前\n",
    "predict0 = np.zeros(len(red_label))\n",
    "for i in range(len(red_label)):\n",
    "    predict0[i] = np.argmax(softmax(w0, b0, red_data[i])) + 3\n",
    "acc0 = np.sum(predict0==red_label)/len(red_label)\n",
    "print(\"降维前总精度 = %f\" %acc0)"
   ]
  },
  {
   "cell_type": "code",
   "execution_count": 17,
   "metadata": {},
   "outputs": [
    {
     "name": "stdout",
     "output_type": "stream",
     "text": [
      "降维且归一化后总精度 = 0.490932\n"
     ]
    }
   ],
   "source": [
    "# 降维且归一化后\n",
    "predict = np.zeros(len(red_label))\n",
    "for i in range(len(red_label)):\n",
    "    predict[i] = np.argmax(softmax(w, b, red_data_pca_norm[i])) + 3\n",
    "acc = np.sum(predict==red_label)/len(red_label)\n",
    "print(\"降维且归一化后总精度 = %f\" %acc)"
   ]
  },
  {
   "cell_type": "code",
   "execution_count": 18,
   "metadata": {},
   "outputs": [
    {
     "name": "stdout",
     "output_type": "stream",
     "text": [
      "[ 10.  53. 681. 638. 199.  18.]\n",
      "[  0.   0. 385. 400.   0.   0.]\n",
      "[0.         0.         0.56534508 0.62695925 0.         0.        ]\n"
     ]
    }
   ],
   "source": [
    "# 逐类分类\n",
    "count = np.zeros(6)\n",
    "acc = np.zeros(6)\n",
    "for i in range(len(predict)):\n",
    "    if red_label[i] == 3.0:\n",
    "        count[0] += 1\n",
    "        if predict[i] == red_label[i]:\n",
    "            acc[0] += 1\n",
    "    if red_label[i] == 4.0:\n",
    "        count[1] += 1\n",
    "        if predict[i] == red_label[i]:\n",
    "            acc[1] += 1\n",
    "    if red_label[i] == 5.0:\n",
    "        count[2] += 1\n",
    "        if predict[i] == red_label[i]:\n",
    "            acc[2] += 1\n",
    "    if red_label[i] == 6.0:\n",
    "        count[3] += 1\n",
    "        if predict[i] == red_label[i]:\n",
    "            acc[3] += 1\n",
    "    if red_label[i] == 7.0:\n",
    "        count[4] += 1\n",
    "        if predict[i] == red_label[i]:\n",
    "            acc[4] += 1\n",
    "    if red_label[i] == 8.0:\n",
    "        count[5] += 1\n",
    "        if predict[i] == red_label[i]:\n",
    "            acc[5] += 1\n",
    "print(count)\n",
    "print(acc)\n",
    "print(acc/count)"
   ]
  },
  {
   "cell_type": "code",
   "execution_count": 19,
   "metadata": {},
   "outputs": [
    {
     "name": "stdout",
     "output_type": "stream",
     "text": [
      "0.8486554096310194\n",
      "0.5115697310819262\n",
      "0.4140087554721701\n",
      "0.46153846153846156\n",
      "0.4052532833020638\n",
      "0.7754846779237023\n"
     ]
    }
   ],
   "source": [
    "# 逐分类器分类\n",
    "for k in range(6):\n",
    "    predicts = sigmoid(np.dot(red_data_pca_norm, w[k]) + b[k])\n",
    "    theta = 0.5\n",
    "    predict = [1 if i > theta else 0 for i in predicts]\n",
    "    print(np.sum(predict == multi_red_label[:, k])/len(predict))\n"
   ]
  },
  {
   "cell_type": "code",
   "execution_count": 20,
   "metadata": {},
   "outputs": [
    {
     "name": "stdout",
     "output_type": "stream",
     "text": [
      "[1, 1, 1, 1, 1, 1, 1, 1, 1, 0]\n",
      "[1. 1. 1. 0. 1. 1. 1. 0. 0. 1.]\n",
      "662\n"
     ]
    }
   ],
   "source": [
    "predicts = sigmoid(np.dot(red_data_pca_norm, w[2]) + b[2])\n",
    "theta = 0.5\n",
    "predict = [1 if i > theta else 0 for i in predicts]\n",
    "print(predict[:10])\n",
    "print(multi_red_label[:, 2][:10])\n",
    "print(np.sum(predict == multi_red_label[:, 2]))"
   ]
  },
  {
   "cell_type": "code",
   "execution_count": null,
   "metadata": {},
   "outputs": [],
   "source": []
  }
 ],
 "metadata": {
  "kernelspec": {
   "display_name": "MindSpore(1.5.0)",
   "language": "python",
   "name": "mindspore"
  },
  "language_info": {
   "codemirror_mode": {
    "name": "ipython",
    "version": 3
   },
   "file_extension": ".py",
   "mimetype": "text/x-python",
   "name": "python",
   "nbconvert_exporter": "python",
   "pygments_lexer": "ipython3",
   "version": "3.7.5"
  }
 },
 "nbformat": 4,
 "nbformat_minor": 4
}
