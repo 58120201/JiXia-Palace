{
 "cells": [
  {
   "cell_type": "code",
   "execution_count": 1,
   "metadata": {},
   "outputs": [],
   "source": [
    "# Copyright 2021 Huawei Technologies Co., Ltd\n",
    "#\n",
    "# Licensed under the Apache License, Version 2.0 (the \"License\");\n",
    "# you may not use this file except in compliance with the License.\n",
    "# You may obtain a copy of the License at\n",
    "#\n",
    "# http://www.apache.org/licenses/LICENSE-2.0\n",
    "#\n",
    "# Unless required by applicable law or agreed to in writing, software\n",
    "# distributed under the License is distributed on an \"AS IS\" BASIS,\n",
    "# WITHOUT WARRANTIES OR CONDITIONS OF ANY KIND, either express or implied.\n",
    "# See the License for the specific language governing permissions and\n",
    "# limitations under the License.\n",
    "# ============================================================================\n",
    "\"\"\"\n",
    "k-nearest neighbor with cosine algorithm, will be used to compute accuracy in train.py\n",
    "\"\"\"\n",
    "import math\n",
    "import numpy as np\n",
    "\n",
    "# create a dataset which contains 4 samples with 2 classes\n",
    "def createDataSet():\n",
    "    group = np.array([[1.0, 0.9], [1.0, 1.0], [0.1, 0.2], [0.0, 0.1]])\n",
    "    labels = ['A', 'A', 'B', 'B']\n",
    "    return group, labels\n",
    "\n",
    "def cosine_distance(v1, v2):\n",
    "    \"compute cosine similarity of v1 to v2: (v1 dot v2)/{||v1||*||v2||)\"\n",
    "    v1_sq = np.inner(v1, v1)\n",
    "    v2_sq = np.inner(v2, v2)\n",
    "    dis = 1 - np.inner(v1, v2) / math.sqrt(v1_sq * v2_sq)\n",
    "    return dis\n",
    "\n",
    "def kNNClassify(newInput, dataSet, labels, k):\n",
    "    \"\"\"classify using kNN\"\"\"\n",
    "    distance = [0] * dataSet.shape[0]\n",
    "    for i in range(dataSet.shape[0]):\n",
    "        distance[i] = cosine_distance(newInput, dataSet[i])\n",
    "    sortedDistIndices = np.argsort(distance)\n",
    "    classCount = {}\n",
    "    for i in range(k):\n",
    "        voteLabel = labels[sortedDistIndices[i]]\n",
    "        classCount[voteLabel] = classCount.get(voteLabel, 0) + 1\n",
    "    maxCount = 0\n",
    "    for key, value in classCount.items():\n",
    "        if value > maxCount:\n",
    "            maxCount = value\n",
    "            maxIndex = key\n",
    "    return maxIndex\n",
    "    #return sortedDistIndices"
   ]
  },
  {
   "cell_type": "code",
   "execution_count": 2,
   "metadata": {},
   "outputs": [],
   "source": [
    "# 载入数据\n",
    "from numpy import genfromtxt\n",
    "train_dataset = genfromtxt('data/train.csv',delimiter=',')\n",
    "val_dataset = genfromtxt('data/val.csv',delimiter=',')\n",
    "test_data = genfromtxt('data/test_data.csv',delimiter=',')\n",
    "train_data = train_dataset[1:,:4]\n",
    "train_label = train_dataset[1:,4]\n",
    "val_data = val_dataset[1:,:4]\n",
    "val_label = val_dataset[1:,4]\n",
    "test_data = test_data[1:,:]"
   ]
  },
  {
   "cell_type": "code",
   "execution_count": 3,
   "metadata": {},
   "outputs": [
    {
     "name": "stdout",
     "output_type": "stream",
     "text": [
      "[2. 1. 0. 2. 0. 2. 0. 1. 1. 1. 2. 1. 1. 1. 1. 0. 1. 1. 0. 0. 2. 1. 0. 0.\n",
      " 2. 0. 0. 1. 1. 0. 2. 2. 0. 2. 2. 1. 0. 2.]\n"
     ]
    }
   ],
   "source": [
    "# 测试集预测\n",
    "predict = np.zeros(len(test_data))\n",
    "for i in range(len(test_data)):\n",
    "    predict[i] = kNNClassify(test_data[i], train_data, train_label, 5)\n",
    "print(predict)"
   ]
  },
  {
   "cell_type": "code",
   "execution_count": 4,
   "metadata": {},
   "outputs": [],
   "source": [
    "# 记录测试结果\n",
    "import csv\n",
    "with open(\"task3_test_prediction.csv\",\"w\", newline=\"\") as csvfile: \n",
    "    writer = csv.writer(csvfile)\n",
    "    writer.writerow([\"index\",\"label\"])\n",
    "    for i in range(len(predict)):\n",
    "        writer.writerow([i,int(predict[i])])"
   ]
  },
  {
   "cell_type": "code",
   "execution_count": 5,
   "metadata": {
    "scrolled": false
   },
   "outputs": [
    {
     "name": "stdout",
     "output_type": "stream",
     "text": [
      "[0.93333333 0.93333333 0.93333333 0.93333333 0.93333333 0.93333333\n",
      " 0.93333333 0.93333333 0.93333333 0.93333333 0.93333333 0.93333333\n",
      " 0.93333333 0.93333333 0.93333333 0.93333333 0.93333333 0.93333333\n",
      " 0.93333333 0.93333333 0.93333333 0.93333333 0.93333333 0.93333333\n",
      " 0.93333333 0.93333333 0.93333333 0.93333333 0.93333333 0.93333333\n",
      " 0.93333333 0.93333333 0.93333333 0.93333333 0.93333333 0.93333333\n",
      " 0.93333333 0.93333333 0.93333333 0.93333333 0.93333333 0.93333333\n",
      " 0.93333333 0.93333333 0.93333333 0.93333333 0.93333333 0.93333333\n",
      " 0.93333333 0.93333333 0.93333333 0.93333333 0.93333333 0.93333333\n",
      " 0.86666667 0.86666667 0.6        0.6        0.6        0.6\n",
      " 0.6        0.6        0.6        0.6        0.6        0.6\n",
      " 0.6        0.6        0.6        0.6        0.6        0.6\n",
      " 0.6        0.6        0.6        0.6        0.6        0.6\n",
      " 0.6        0.6        0.6        0.6        0.6        0.6\n",
      " 0.6        0.6        0.6        0.6        0.6        0.6\n",
      " 0.6        0.6        0.26666667 0.26666667 0.26666667 0.26666667\n",
      " 0.26666667]\n"
     ]
    },
    {
     "data": {
      "image/png": "[encoded data removed]",
      "text/plain": [
       "<Figure size 432x288 with 1 Axes>"
      ]
     },
     "metadata": {
      "needs_background": "light"
     },
     "output_type": "display_data"
    }
   ],
   "source": [
    "# 在验证集上考察k与精度的关系\n",
    "import matplotlib.pyplot as plt\n",
    "\n",
    "acc = np.zeros(97)\n",
    "predict = np.zeros(len(val_label))\n",
    "for k in range(1,98):\n",
    "    for i in range(len(val_label)):\n",
    "        predict[i] = kNNClassify(val_data[i], train_data, train_label, k)\n",
    "        acc[k-1] = np.sum(predict == val_label)/len(val_data)\n",
    "print(acc)\n",
    "plt.plot(range(0,97),acc)\n",
    "plt.show()"
   ]
  },
  {
   "cell_type": "code",
   "execution_count": null,
   "metadata": {},
   "outputs": [],
   "source": []
  }
 ],
 "metadata": {
  "kernelspec": {
   "display_name": "MindSpore(1.5.0)",
   "language": "python",
   "name": "mindspore"
  },
  "language_info": {
   "codemirror_mode": {
    "name": "ipython",
    "version": 3
   },
   "file_extension": ".py",
   "mimetype": "text/x-python",
   "name": "python",
   "nbconvert_exporter": "python",
   "pygments_lexer": "ipython3",
   "version": "3.7.5"
  }
 },
 "nbformat": 4,
 "nbformat_minor": 4
}
