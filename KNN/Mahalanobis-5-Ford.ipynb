{
 "cells": [
  {
   "cell_type": "code",
   "execution_count": 1,
   "metadata": {},
   "outputs": [],
   "source": [
    "import os\n",
    "import numpy as np"
   ]
  },
  {
   "cell_type": "code",
   "execution_count": 2,
   "metadata": {},
   "outputs": [],
   "source": [
    "# 载入数据\n",
    "from numpy import genfromtxt\n",
    "train_dataset = genfromtxt('data/train.csv',delimiter=',')\n",
    "val_dataset = genfromtxt('data/val.csv',delimiter=',')\n",
    "test_data = genfromtxt('data/test_data.csv',delimiter=',')\n",
    "train_data = train_dataset[1:,:4]\n",
    "train_label = train_dataset[1:,4]\n",
    "val_data = val_dataset[1:,:4]\n",
    "val_label = val_dataset[1:,4]\n",
    "test_data = test_data[1:,:]"
   ]
  },
  {
   "cell_type": "code",
   "execution_count": 3,
   "metadata": {},
   "outputs": [],
   "source": [
    "# pij计算函数\n",
    "def pij(A, i, j):\n",
    "    if i == j:\n",
    "        return 0\n",
    "    else:\n",
    "        normalization = 0\n",
    "        for k in range(len(train_label)):\n",
    "            if k != i:\n",
    "                normalization += np.exp(-(np.linalg.norm(A * train_data[i] - A * train_data[k]) ** 2))\n",
    "        return np.linalg.norm(A * train_data[i] - A * train_data[j])/normalization"
   ]
  },
  {
   "cell_type": "code",
   "execution_count": 4,
   "metadata": {},
   "outputs": [],
   "source": [
    "# 梯度计算\n",
    "def gradient(A):\n",
    "    sum1 = np.zeros(4)\n",
    "    for i in range(len(train_label)):\n",
    "        sum2 = np.zeros(4)\n",
    "        for k in range(len(train_label)):                  # 梯度结果后半部分\n",
    "            if i != k:\n",
    "                temp = train_data[i] - train_data[k]\n",
    "                sum2 +=  pij(A, i, k) * temp * temp.T\n",
    "        for j in range(len(train_label)):                  # 梯度结果前半部分\n",
    "            if train_label[i] == train_label[j]:                \n",
    "                delta_vector = train_data[i] - train_data[j]\n",
    "                sum1 += pij(A, i, j) * (delta_vector * delta_vector.T - sum2)\n",
    "    return 2 * A * sum1"
   ]
  },
  {
   "cell_type": "code",
   "execution_count": 5,
   "metadata": {
    "scrolled": true
   },
   "outputs": [
    {
     "name": "stdout",
     "output_type": "stream",
     "text": [
      "iter 0：gradient = \n",
      "[ -67454.37365082   -9445.14223599 -216611.00841347  -31863.97310392]\n",
      "A =\n",
      "[ 0.32545626  0.90554858 -1.16611008  0.68136027]\n",
      "time_used: 9.042042\n",
      "\n",
      "\n",
      "iter 1：gradient = \n",
      "[ -9746.96035729  -3530.27404749 122118.58673263 -10451.39544514]\n",
      "A =\n",
      "[0.22798666 0.87024584 0.05507578 0.57684631]\n",
      "time_used: 17.888053\n",
      "\n",
      "\n",
      "iter 2：gradient = \n",
      "[ -44.39118878  -71.93640662  -62.38844381 -118.84070615]\n",
      "A =\n",
      "[0.22754275 0.86952647 0.0544519  0.57565791]\n",
      "time_used: 26.786046\n",
      "\n",
      "\n",
      "iter 3：gradient = \n",
      "[ -43.93559875  -71.27987665  -61.22688007 -117.72349847]\n",
      "A =\n",
      "[0.22710339 0.86881367 0.05383963 0.57448067]\n",
      "time_used: 35.705076\n",
      "\n",
      "\n",
      "iter 4：gradient = \n",
      "[ -43.48912076  -70.63541444  -60.09673712 -116.62757339]\n",
      "A =\n",
      "[0.2266685  0.86810732 0.05323866 0.5733144 ]\n",
      "time_used: 44.696090\n",
      "\n",
      "\n",
      "iter 5：gradient = \n",
      "[ -43.05147633  -70.0026749   -58.99687781 -115.55230381]\n",
      "A =\n",
      "[0.22623799 0.86740729 0.05264869 0.57215887]\n",
      "time_used: 53.628106\n",
      "\n",
      "\n",
      "iter 6：gradient = \n",
      "[ -42.62239844  -69.38132641  -57.92621701 -114.49708778]\n",
      "A =\n",
      "[0.22581176 0.86671348 0.05206943 0.5710139 ]\n",
      "time_used: 62.882195\n",
      "\n",
      "\n",
      "iter 7：gradient = \n",
      "[ -42.20163101  -68.7710502   -56.88371871 -113.46134722]\n",
      "A =\n",
      "[0.22538975 0.86602577 0.05150059 0.56987929]\n",
      "time_used: 71.980248\n",
      "\n",
      "\n",
      "iter 8：gradient = \n",
      "[ -41.78892827  -68.17153967  -55.86839332 -112.44452675]\n",
      "A =\n",
      "[0.22497186 0.86534405 0.05094191 0.56875484]\n",
      "time_used: 80.989283\n",
      "\n",
      "\n",
      "iter 9：gradient = \n",
      "[ -41.38405431  -67.58249984  -54.87929519 -111.44609255]\n",
      "A =\n",
      "[0.22455802 0.86466823 0.05039312 0.56764038]\n",
      "time_used: 90.155351\n",
      "\n",
      "\n",
      "iter 10：gradient = \n",
      "[ -40.98678252  -67.00364678  -53.91552018 -110.46553131]\n",
      "A =\n",
      "[0.22414815 0.86399819 0.04985396 0.56653573]\n",
      "time_used: 99.338440\n",
      "\n",
      "\n",
      "训练耗时为  99.339441 s\n",
      "[0.22414815 0.86399819 0.04985396 0.56653573]\n"
     ]
    }
   ],
   "source": [
    "# 梯度下降训练A\n",
    "import time\n",
    "\n",
    "delta = 1e-3\n",
    "ita = 1e-5\n",
    "A = np.ones(4)\n",
    "iteration = 0\n",
    "maxiter = 10\n",
    "time_start = time.time()\n",
    "while(True):\n",
    "    d = gradient(A)\n",
    "    A += ita * d\n",
    "    time_iteration = time.time()\n",
    "    print('iter %d：gradient = '%iteration)\n",
    "    print(d)\n",
    "    print('A =')\n",
    "    print(A)\n",
    "    print('time_used: %f' %(time_iteration - time_start))\n",
    "    print('\\n')\n",
    "    if iteration >= maxiter or np.linalg.norm(d) < delta:\n",
    "        break\n",
    "    iteration += 1\n",
    "\n",
    "time_end = time.time()\n",
    "print('%s  %f s' % (\"训练耗时为\", (time_end - time_start)))\n",
    "print(A)"
   ]
  },
  {
   "cell_type": "code",
   "execution_count": 6,
   "metadata": {},
   "outputs": [],
   "source": [
    "# 验证函数\n",
    "from collections import Counter\n",
    "def verify_kNN(train_data, test_data, k, distance):\n",
    "    if distance == 'Euclid':\n",
    "        predict = np.zeros(len(test_data[:,0]))\n",
    "        d = np.zeros(len(train_data[:,0]))\n",
    "        for i in range(len(predict)):\n",
    "            for j in range(len(d)):\n",
    "                d[j] = np.linalg.norm(test_data[i,:] - train_data[j,:])\n",
    "                idx = np.argsort(d)[:k]\n",
    "                predict[i] = Counter(train_label[idx]).most_common(1)[0][0]\n",
    "        return predict\n",
    "    if distance == 'Mahalanobis':\n",
    "        predict = np.zeros(len(test_data[:,0]))\n",
    "        d = np.zeros(len(train_data[:,0]))\n",
    "        for i in range(len(predict)):\n",
    "            for j in range(len(d)):\n",
    "                temp = test_data[i,:] - train_data[j,:]\n",
    "                d[j] = np.linalg.norm(A * test_data[i,:] - A * train_data[j,:])\n",
    "                idx = np.argsort(d)[:k]\n",
    "                predict[i] = Counter(train_label[idx]).most_common(1)[0][0]\n",
    "        return predict"
   ]
  },
  {
   "cell_type": "code",
   "execution_count": 7,
   "metadata": {},
   "outputs": [
    {
     "name": "stdout",
     "output_type": "stream",
     "text": [
      "[2. 1. 0. 2. 0. 2. 0. 1. 1. 1. 1. 1. 1. 1. 1. 0. 1. 1. 0. 0. 2. 1. 0. 0.\n",
      " 2. 0. 0. 1. 1. 0. 2. 1. 0. 2. 2. 1. 0. 2.]\n"
     ]
    }
   ],
   "source": [
    "# 测试集验证\n",
    "predict = verify_kNN(train_data, test_data, 5, 'Mahalanobis')\n",
    "print(predict)"
   ]
  },
  {
   "cell_type": "code",
   "execution_count": 8,
   "metadata": {},
   "outputs": [],
   "source": [
    "# 记录测试结果\n",
    "import csv\n",
    "with open(\"task2_test_ prediction.csv\",\"w\", newline=\"\") as csvfile: \n",
    "    writer = csv.writer(csvfile)\n",
    "    writer.writerow([\"index\",\"label\"])\n",
    "    for i in range(len(predict)):\n",
    "        writer.writerow([i,int(predict[i])])"
   ]
  },
  {
   "cell_type": "code",
   "execution_count": 9,
   "metadata": {
    "scrolled": false
   },
   "outputs": [
    {
     "name": "stdout",
     "output_type": "stream",
     "text": [
      "[0.22414815 0.86399819 0.04985396 0.56653573]\n",
      "[1.         1.         0.93333333 0.93333333 0.93333333 0.93333333\n",
      " 0.93333333 0.93333333 0.93333333 0.93333333 0.93333333 1.\n",
      " 0.93333333 0.93333333 0.93333333 0.93333333 0.93333333 0.93333333\n",
      " 0.93333333 0.93333333 0.93333333 0.93333333 0.93333333 0.93333333\n",
      " 0.93333333 0.93333333 0.93333333 0.93333333 0.93333333 0.93333333\n",
      " 0.93333333 0.93333333 0.93333333 0.93333333 0.93333333 0.93333333\n",
      " 0.93333333 0.93333333 0.93333333 0.93333333 0.93333333 0.93333333\n",
      " 0.93333333 0.93333333 0.93333333 0.93333333 0.93333333 0.93333333\n",
      " 0.86666667 0.93333333 0.86666667 0.93333333 0.93333333 0.93333333\n",
      " 0.86666667 0.8        0.73333333 0.73333333 0.73333333 0.73333333\n",
      " 0.73333333 0.73333333 0.73333333 0.73333333 0.73333333 0.73333333\n",
      " 0.73333333 0.73333333 0.73333333 0.73333333 0.73333333 0.73333333\n",
      " 0.73333333 0.73333333 0.73333333 0.73333333 0.73333333 0.66666667\n",
      " 0.66666667 0.6        0.6        0.6        0.6        0.6\n",
      " 0.6        0.6        0.6        0.6        0.6        0.6\n",
      " 0.46666667 0.46666667 0.26666667 0.26666667 0.26666667 0.26666667\n",
      " 0.26666667]\n"
     ]
    },
    {
     "data": {
      "image/png": "[encoded data removed]",
      "text/plain": [
       "<Figure size 432x288 with 1 Axes>"
      ]
     },
     "metadata": {
      "needs_background": "light"
     },
     "output_type": "display_data"
    }
   ],
   "source": [
    "# 在验证集上考察k与精度的关系\n",
    "import matplotlib.pyplot as plt\n",
    "print(A)\n",
    "acc = np.zeros(97)\n",
    "for k in range(1, 98):\n",
    "    predict = verify_kNN(train_data, val_data, k, 'Mahalanobis')\n",
    "    acc[k-1] = np.sum(predict == val_label)/len(predict)\n",
    "print(acc)\n",
    "plt.plot(range(0,97), acc)\n",
    "plt.xlabel('k')\n",
    "plt.ylabel('accuracy')\n",
    "plt.title('relation between k and accuracy')\n",
    "plt.show()"
   ]
  },
  {
   "cell_type": "code",
   "execution_count": null,
   "metadata": {},
   "outputs": [],
   "source": []
  }
 ],
 "metadata": {
  "kernelspec": {
   "display_name": "MindSpore(1.5.0)",
   "language": "python",
   "name": "mindspore"
  },
  "language_info": {
   "codemirror_mode": {
    "name": "ipython",
    "version": 3
   },
   "file_extension": ".py",
   "mimetype": "text/x-python",
   "name": "python",
   "nbconvert_exporter": "python",
   "pygments_lexer": "ipython3",
   "version": "3.7.5"
  }
 },
 "nbformat": 4,
 "nbformat_minor": 4
}
