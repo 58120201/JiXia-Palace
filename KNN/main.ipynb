{
 "cells": [
  {
   "cell_type": "code",
   "execution_count": 1,
   "metadata": {},
   "outputs": [],
   "source": [
    "import os\n",
    "import numpy as np"
   ]
  },
  {
   "cell_type": "code",
   "execution_count": 2,
   "metadata": {},
   "outputs": [],
   "source": [
    "# 载入数据\n",
    "from numpy import genfromtxt\n",
    "train_dataset = genfromtxt('data/train.csv',delimiter=',')\n",
    "val_dataset = genfromtxt('data/val.csv',delimiter=',')\n",
    "test_data = genfromtxt('data/test_data.csv',delimiter=',')\n",
    "train_data = train_dataset[1:,:4]\n",
    "train_label = train_dataset[1:,4]\n",
    "val_data = val_dataset[1:,:4]\n",
    "val_label = val_dataset[1:,4]\n",
    "test_data = test_data[1:,:]"
   ]
  },
  {
   "cell_type": "code",
   "execution_count": 3,
   "metadata": {},
   "outputs": [],
   "source": [
    "# 验证函数\n",
    "from collections import Counter\n",
    "def verify_kNN(train_data, test_data, k):\n",
    "    predict = np.zeros(len(test_data[:,0]))\n",
    "    for i in range(len(predict)):\n",
    "        d = np.zeros(len(train_data[:,0]))\n",
    "        for j in range(len(d)):\n",
    "            d[j] = np.linalg.norm(test_data[i,:] - train_data[j,:])\n",
    "            idx = np.argsort(d)[:k]\n",
    "            predict[i] = Counter(train_label[idx]).most_common(1)[0][0]    \n",
    "    return predict"
   ]
  },
  {
   "cell_type": "code",
   "execution_count": 4,
   "metadata": {},
   "outputs": [
    {
     "name": "stdout",
     "output_type": "stream",
     "text": [
      "[2. 1. 0. 2. 0. 2. 0. 1. 1. 1. 2. 1. 1. 1. 1. 0. 1. 1. 0. 0. 2. 1. 0. 0.\n",
      " 2. 0. 0. 1. 1. 0. 2. 1. 0. 2. 2. 1. 0. 2.]\n"
     ]
    }
   ],
   "source": [
    "# 测试集预测\n",
    "predict = verify_kNN(train_data, test_data, 5)\n",
    "print(predict)"
   ]
  },
  {
   "cell_type": "code",
   "execution_count": 5,
   "metadata": {},
   "outputs": [],
   "source": [
    "# 记录测试结果\n",
    "import csv\n",
    "with open(\"task1_test_prediction.csv\",\"w\", newline=\"\") as csvfile: \n",
    "    writer = csv.writer(csvfile)\n",
    "    writer.writerow([\"index\",\"label\"])\n",
    "    for i in range(len(predict)):\n",
    "        writer.writerow([i,int(predict[i])])"
   ]
  },
  {
   "cell_type": "code",
   "execution_count": 6,
   "metadata": {},
   "outputs": [
    {
     "name": "stdout",
     "output_type": "stream",
     "text": [
      "[0.93333333 0.93333333 0.93333333 0.93333333 1.         0.93333333\n",
      " 0.93333333 0.93333333 0.93333333 0.93333333 0.93333333 0.93333333\n",
      " 0.93333333 0.93333333 0.93333333 0.93333333 0.93333333 0.93333333\n",
      " 0.93333333 0.93333333 0.93333333 0.93333333 0.93333333 0.93333333\n",
      " 0.93333333 0.93333333 1.         0.93333333 1.         0.93333333\n",
      " 0.93333333 0.93333333 0.93333333 0.93333333 0.93333333 0.93333333\n",
      " 0.93333333 0.93333333 0.93333333 0.93333333 0.93333333 0.93333333\n",
      " 0.93333333 0.93333333 0.93333333 0.93333333 0.93333333 0.93333333\n",
      " 0.93333333 0.93333333 0.86666667 0.86666667 0.86666667 0.86666667\n",
      " 0.86666667 0.86666667 0.66666667 0.66666667 0.66666667 0.66666667\n",
      " 0.66666667 0.66666667 0.66666667 0.66666667 0.66666667 0.66666667\n",
      " 0.66666667 0.66666667 0.66666667 0.66666667 0.66666667 0.66666667\n",
      " 0.66666667 0.66666667 0.66666667 0.66666667 0.66666667 0.66666667\n",
      " 0.66666667 0.66666667 0.66666667 0.66666667 0.66666667 0.6\n",
      " 0.6        0.6        0.6        0.6        0.6        0.6\n",
      " 0.6        0.6        0.26666667 0.26666667 0.26666667 0.26666667\n",
      " 0.26666667]\n"
     ]
    },
    {
     "data": {
      "image/png": "[encoded data removed]",
      "text/plain": [
       "<Figure size 432x288 with 1 Axes>"
      ]
     },
     "metadata": {
      "needs_background": "light"
     },
     "output_type": "display_data"
    }
   ],
   "source": [
    "# 在验证集上考察k与精度的关系\n",
    "import matplotlib.pyplot as plt\n",
    "\n",
    "acc = np.zeros(97)\n",
    "for k in range(1, 98):\n",
    "    predict = verify_kNN(train_data, val_data, k)\n",
    "    acc[k-1] = np.sum(predict == val_label)/len(predict)\n",
    "print(acc)\n",
    "plt.plot(range(0,97), acc)\n",
    "plt.xlabel('k')\n",
    "plt.ylabel('accuracy')\n",
    "plt.title('relation between k and accuracy')\n",
    "plt.show()"
   ]
  },
  {
   "cell_type": "code",
   "execution_count": null,
   "metadata": {},
   "outputs": [],
   "source": []
  }
 ],
 "metadata": {
  "kernelspec": {
   "display_name": "MindSpore(1.5.0)",
   "language": "python",
   "name": "mindspore"
  },
  "language_info": {
   "codemirror_mode": {
    "name": "ipython",
    "version": 3
   },
   "file_extension": ".py",
   "mimetype": "text/x-python",
   "name": "python",
   "nbconvert_exporter": "python",
   "pygments_lexer": "ipython3",
   "version": "3.7.5"
  }
 },
 "nbformat": 4,
 "nbformat_minor": 4
}
